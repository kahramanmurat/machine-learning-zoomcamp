{
 "cells": [
  {
   "cell_type": "code",
   "execution_count": 1,
   "id": "56426947-8253-4986-b3d3-7e5f488bbb59",
   "metadata": {
    "tags": []
   },
   "outputs": [],
   "source": [
    "import pandas as pd\n",
    "import numpy as np\n",
    "import matplotlib.pyplot as plt\n",
    "import seaborn as sns\n",
    "%matplotlib inline"
   ]
  },
  {
   "cell_type": "code",
   "execution_count": 2,
   "id": "9c4ec5d2-74f8-4839-9cfa-cd5e5f71010d",
   "metadata": {
    "tags": []
   },
   "outputs": [],
   "source": [
    "df=pd.read_csv(\"car-price-data.csv\")"
   ]
  },
  {
   "cell_type": "markdown",
   "id": "0f6e4979-80f1-41fd-94f7-e8831b8cde47",
   "metadata": {},
   "source": [
    "### Features\n",
    "\n",
    "For the rest of the homework, you'll need to use only these columns:\n",
    "\n",
    "* `Make`,\n",
    "* `Model`,\n",
    "* `Year`,\n",
    "* `Engine HP`,\n",
    "* `Engine Cylinders`,\n",
    "* `Transmission Type`,\n",
    "* `Vehicle Style`,\n",
    "* `highway MPG`,\n",
    "* `city mpg`\n",
    "\n",
    "### Data preparation\n",
    "\n",
    "* Select only the features from above and transform their names using next line:\n",
    "  ```\n",
    "  data.columns = data.columns.str.replace(' ', '_').str.lower()\n",
    "  ```\n",
    "* Fill in the missing values of the selected features with 0.\n",
    "* Rename `MSRP` variable to `price`.\n"
   ]
  },
  {
   "cell_type": "code",
   "execution_count": 3,
   "id": "dee1b370-b5f1-4460-ba4e-953f5c15f20c",
   "metadata": {
    "tags": []
   },
   "outputs": [
    {
     "data": {
      "text/plain": [
       "['Make',\n",
       " 'Model',\n",
       " 'Year',\n",
       " 'Engine Fuel Type',\n",
       " 'Engine HP',\n",
       " 'Engine Cylinders',\n",
       " 'Transmission Type',\n",
       " 'Driven_Wheels',\n",
       " 'Number of Doors',\n",
       " 'Market Category',\n",
       " 'Vehicle Size',\n",
       " 'Vehicle Style',\n",
       " 'highway MPG',\n",
       " 'city mpg',\n",
       " 'Popularity',\n",
       " 'MSRP']"
      ]
     },
     "execution_count": 3,
     "metadata": {},
     "output_type": "execute_result"
    }
   ],
   "source": [
    "list(df.columns.values)"
   ]
  },
  {
   "cell_type": "code",
   "execution_count": 4,
   "id": "87b6fd89-aa39-43fa-9427-e8bfb991c82e",
   "metadata": {
    "tags": []
   },
   "outputs": [],
   "source": [
    "df.columns=df.columns.str.lower().str.replace(\" \",\"_\")"
   ]
  },
  {
   "cell_type": "code",
   "execution_count": 5,
   "id": "bee994bf-3a9c-4abe-82c6-c2c6b1a08fc7",
   "metadata": {
    "tags": []
   },
   "outputs": [
    {
     "data": {
      "text/plain": [
       "['make',\n",
       " 'model',\n",
       " 'year',\n",
       " 'engine_fuel_type',\n",
       " 'engine_hp',\n",
       " 'engine_cylinders',\n",
       " 'transmission_type',\n",
       " 'driven_wheels',\n",
       " 'number_of_doors',\n",
       " 'market_category',\n",
       " 'vehicle_size',\n",
       " 'vehicle_style',\n",
       " 'highway_mpg',\n",
       " 'city_mpg',\n",
       " 'popularity',\n",
       " 'msrp']"
      ]
     },
     "execution_count": 5,
     "metadata": {},
     "output_type": "execute_result"
    }
   ],
   "source": [
    "list(df.columns.values)"
   ]
  },
  {
   "cell_type": "code",
   "execution_count": 6,
   "id": "1dd199a3-89bd-47f0-9ce4-d34c7f752364",
   "metadata": {
    "tags": []
   },
   "outputs": [],
   "source": [
    "base=['make',\n",
    " 'model',\n",
    " 'year',\n",
    " 'engine_hp',\n",
    " 'engine_cylinders',\n",
    " 'transmission_type',\n",
    " 'vehicle_style',\n",
    " 'highway_mpg',\n",
    " 'city_mpg']"
   ]
  },
  {
   "cell_type": "code",
   "execution_count": 7,
   "id": "0c8beace-5dff-462b-b083-2d52fac5875c",
   "metadata": {
    "tags": []
   },
   "outputs": [],
   "source": [
    "df[base]=df[base].fillna(0)"
   ]
  },
  {
   "cell_type": "code",
   "execution_count": 8,
   "id": "8d06a4e3-0433-44b7-a204-dd7d18adccd4",
   "metadata": {
    "tags": []
   },
   "outputs": [
    {
     "data": {
      "text/plain": [
       "make                 0\n",
       "model                0\n",
       "year                 0\n",
       "engine_hp            0\n",
       "engine_cylinders     0\n",
       "transmission_type    0\n",
       "vehicle_style        0\n",
       "highway_mpg          0\n",
       "city_mpg             0\n",
       "dtype: int64"
      ]
     },
     "execution_count": 8,
     "metadata": {},
     "output_type": "execute_result"
    }
   ],
   "source": [
    "df[base].isnull().sum()"
   ]
  },
  {
   "cell_type": "code",
   "execution_count": 9,
   "id": "e481a4cb-74b0-43e0-b6a5-b28d3ffcf976",
   "metadata": {
    "tags": []
   },
   "outputs": [],
   "source": [
    "df.rename(columns={'msrp':'price'},inplace=True)"
   ]
  },
  {
   "cell_type": "code",
   "execution_count": 10,
   "id": "c422b2f1-dc66-4a31-bdaf-531a0d674af5",
   "metadata": {
    "tags": []
   },
   "outputs": [
    {
     "data": {
      "text/plain": [
       "Index(['make', 'model', 'year', 'engine_fuel_type', 'engine_hp',\n",
       "       'engine_cylinders', 'transmission_type', 'driven_wheels',\n",
       "       'number_of_doors', 'market_category', 'vehicle_size', 'vehicle_style',\n",
       "       'highway_mpg', 'city_mpg', 'popularity', 'price'],\n",
       "      dtype='object')"
      ]
     },
     "execution_count": 10,
     "metadata": {},
     "output_type": "execute_result"
    }
   ],
   "source": [
    "df.columns"
   ]
  },
  {
   "cell_type": "markdown",
   "id": "07383705-1960-4978-b41c-82b68f49aa1e",
   "metadata": {},
   "source": [
    "### Question 1\n",
    "\n",
    "What is the most frequent observation (mode) for the column `transmission_type`?\n",
    "\n",
    "- `AUTOMATIC`\n",
    "- `MANUAL`\n",
    "- `AUTOMATED_MANUAL`\n",
    "- `DIRECT_DRIVE`"
   ]
  },
  {
   "cell_type": "code",
   "execution_count": 11,
   "id": "6e0839f0-4991-47ab-8dcf-6c6f85b66543",
   "metadata": {
    "tags": []
   },
   "outputs": [
    {
     "data": {
      "text/plain": [
       "AUTOMATIC           8266\n",
       "MANUAL              2935\n",
       "AUTOMATED_MANUAL     626\n",
       "DIRECT_DRIVE          68\n",
       "UNKNOWN               19\n",
       "Name: transmission_type, dtype: int64"
      ]
     },
     "execution_count": 11,
     "metadata": {},
     "output_type": "execute_result"
    }
   ],
   "source": [
    "df.transmission_type.value_counts()"
   ]
  },
  {
   "cell_type": "markdown",
   "id": "3ef7ad5e-a9ce-4d4b-8be9-723d2e49a870",
   "metadata": {},
   "source": [
    "### Question 2\n",
    "\n",
    "Create the [correlation matrix](https://www.google.com/search?q=correlation+matrix) for the numerical features of your dataset. \n",
    "In a correlation matrix, you compute the correlation coefficient between every pair of features in the dataset.\n",
    "\n",
    "What are the two features that have the biggest correlation in this dataset?\n",
    "\n",
    "- `engine_hp` and `year`\n",
    "- `engine_hp` and `engine_cylinders`\n",
    "- `highway_mpg` and `engine_cylinders`\n",
    "- `highway_mpg` and `city_mpg`"
   ]
  },
  {
   "cell_type": "code",
   "execution_count": 12,
   "id": "4ab74cca-5fa7-4d64-9322-203ca8c1b414",
   "metadata": {
    "tags": []
   },
   "outputs": [],
   "source": [
    "numerical_features = df.select_dtypes(include=['number'])"
   ]
  },
  {
   "cell_type": "code",
   "execution_count": 13,
   "id": "9fd60453-4b6e-497f-a114-bfd7333f8c8f",
   "metadata": {
    "tags": []
   },
   "outputs": [],
   "source": [
    "# Calculate the correlation matrix\n",
    "correlation_matrix = numerical_features.corr()"
   ]
  },
  {
   "cell_type": "code",
   "execution_count": 14,
   "id": "9002782a-1128-420d-9e43-465d82cbf180",
   "metadata": {
    "tags": []
   },
   "outputs": [
    {
     "data": {
      "text/html": [
       "<div>\n",
       "<style scoped>\n",
       "    .dataframe tbody tr th:only-of-type {\n",
       "        vertical-align: middle;\n",
       "    }\n",
       "\n",
       "    .dataframe tbody tr th {\n",
       "        vertical-align: top;\n",
       "    }\n",
       "\n",
       "    .dataframe thead th {\n",
       "        text-align: right;\n",
       "    }\n",
       "</style>\n",
       "<table border=\"1\" class=\"dataframe\">\n",
       "  <thead>\n",
       "    <tr style=\"text-align: right;\">\n",
       "      <th></th>\n",
       "      <th>year</th>\n",
       "      <th>engine_hp</th>\n",
       "      <th>engine_cylinders</th>\n",
       "      <th>number_of_doors</th>\n",
       "      <th>highway_mpg</th>\n",
       "      <th>city_mpg</th>\n",
       "      <th>popularity</th>\n",
       "      <th>price</th>\n",
       "    </tr>\n",
       "  </thead>\n",
       "  <tbody>\n",
       "    <tr>\n",
       "      <th>year</th>\n",
       "      <td>1.000000</td>\n",
       "      <td>0.338714</td>\n",
       "      <td>-0.040708</td>\n",
       "      <td>0.263787</td>\n",
       "      <td>0.258240</td>\n",
       "      <td>0.198171</td>\n",
       "      <td>0.073049</td>\n",
       "      <td>0.227590</td>\n",
       "    </tr>\n",
       "    <tr>\n",
       "      <th>engine_hp</th>\n",
       "      <td>0.338714</td>\n",
       "      <td>1.000000</td>\n",
       "      <td>0.774851</td>\n",
       "      <td>-0.107640</td>\n",
       "      <td>-0.415707</td>\n",
       "      <td>-0.424918</td>\n",
       "      <td>0.031409</td>\n",
       "      <td>0.650095</td>\n",
       "    </tr>\n",
       "    <tr>\n",
       "      <th>engine_cylinders</th>\n",
       "      <td>-0.040708</td>\n",
       "      <td>0.774851</td>\n",
       "      <td>1.000000</td>\n",
       "      <td>-0.141498</td>\n",
       "      <td>-0.614541</td>\n",
       "      <td>-0.587306</td>\n",
       "      <td>0.045226</td>\n",
       "      <td>0.526274</td>\n",
       "    </tr>\n",
       "    <tr>\n",
       "      <th>number_of_doors</th>\n",
       "      <td>0.263787</td>\n",
       "      <td>-0.107640</td>\n",
       "      <td>-0.141498</td>\n",
       "      <td>1.000000</td>\n",
       "      <td>0.118570</td>\n",
       "      <td>0.120881</td>\n",
       "      <td>-0.048272</td>\n",
       "      <td>-0.126635</td>\n",
       "    </tr>\n",
       "    <tr>\n",
       "      <th>highway_mpg</th>\n",
       "      <td>0.258240</td>\n",
       "      <td>-0.415707</td>\n",
       "      <td>-0.614541</td>\n",
       "      <td>0.118570</td>\n",
       "      <td>1.000000</td>\n",
       "      <td>0.886829</td>\n",
       "      <td>-0.020991</td>\n",
       "      <td>-0.160043</td>\n",
       "    </tr>\n",
       "    <tr>\n",
       "      <th>city_mpg</th>\n",
       "      <td>0.198171</td>\n",
       "      <td>-0.424918</td>\n",
       "      <td>-0.587306</td>\n",
       "      <td>0.120881</td>\n",
       "      <td>0.886829</td>\n",
       "      <td>1.000000</td>\n",
       "      <td>-0.003217</td>\n",
       "      <td>-0.157676</td>\n",
       "    </tr>\n",
       "    <tr>\n",
       "      <th>popularity</th>\n",
       "      <td>0.073049</td>\n",
       "      <td>0.031409</td>\n",
       "      <td>0.045226</td>\n",
       "      <td>-0.048272</td>\n",
       "      <td>-0.020991</td>\n",
       "      <td>-0.003217</td>\n",
       "      <td>1.000000</td>\n",
       "      <td>-0.048476</td>\n",
       "    </tr>\n",
       "    <tr>\n",
       "      <th>price</th>\n",
       "      <td>0.227590</td>\n",
       "      <td>0.650095</td>\n",
       "      <td>0.526274</td>\n",
       "      <td>-0.126635</td>\n",
       "      <td>-0.160043</td>\n",
       "      <td>-0.157676</td>\n",
       "      <td>-0.048476</td>\n",
       "      <td>1.000000</td>\n",
       "    </tr>\n",
       "  </tbody>\n",
       "</table>\n",
       "</div>"
      ],
      "text/plain": [
       "                      year  engine_hp  engine_cylinders  number_of_doors  \\\n",
       "year              1.000000   0.338714         -0.040708         0.263787   \n",
       "engine_hp         0.338714   1.000000          0.774851        -0.107640   \n",
       "engine_cylinders -0.040708   0.774851          1.000000        -0.141498   \n",
       "number_of_doors   0.263787  -0.107640         -0.141498         1.000000   \n",
       "highway_mpg       0.258240  -0.415707         -0.614541         0.118570   \n",
       "city_mpg          0.198171  -0.424918         -0.587306         0.120881   \n",
       "popularity        0.073049   0.031409          0.045226        -0.048272   \n",
       "price             0.227590   0.650095          0.526274        -0.126635   \n",
       "\n",
       "                  highway_mpg  city_mpg  popularity     price  \n",
       "year                 0.258240  0.198171    0.073049  0.227590  \n",
       "engine_hp           -0.415707 -0.424918    0.031409  0.650095  \n",
       "engine_cylinders    -0.614541 -0.587306    0.045226  0.526274  \n",
       "number_of_doors      0.118570  0.120881   -0.048272 -0.126635  \n",
       "highway_mpg          1.000000  0.886829   -0.020991 -0.160043  \n",
       "city_mpg             0.886829  1.000000   -0.003217 -0.157676  \n",
       "popularity          -0.020991 -0.003217    1.000000 -0.048476  \n",
       "price               -0.160043 -0.157676   -0.048476  1.000000  "
      ]
     },
     "execution_count": 14,
     "metadata": {},
     "output_type": "execute_result"
    }
   ],
   "source": [
    "correlation_matrix"
   ]
  },
  {
   "cell_type": "code",
   "execution_count": 15,
   "id": "508b9587-83ab-400a-8b02-7b8326998950",
   "metadata": {
    "tags": []
   },
   "outputs": [],
   "source": [
    "largest_correlations = correlation_matrix.abs().unstack().sort_values(ascending=False)"
   ]
  },
  {
   "cell_type": "code",
   "execution_count": 16,
   "id": "f6759922-da60-4be4-82aa-23d5e84995c0",
   "metadata": {
    "tags": []
   },
   "outputs": [],
   "source": [
    "largest_correlations=largest_correlations[largest_correlations<1]"
   ]
  },
  {
   "cell_type": "code",
   "execution_count": 17,
   "id": "c5e7dc50-32e1-4aeb-84a0-6e868e543fad",
   "metadata": {
    "tags": []
   },
   "outputs": [],
   "source": [
    "# The first two elements of 'largest_correlations' will be the two features with the biggest correlation\n",
    "feature1, feature2 = largest_correlations.index[0]"
   ]
  },
  {
   "cell_type": "code",
   "execution_count": 18,
   "id": "b1bd1833-9843-409b-ae36-3c5c17327f63",
   "metadata": {
    "tags": []
   },
   "outputs": [
    {
     "data": {
      "text/plain": [
       "('city_mpg', 'highway_mpg')"
      ]
     },
     "execution_count": 18,
     "metadata": {},
     "output_type": "execute_result"
    }
   ],
   "source": [
    "feature1, feature2"
   ]
  },
  {
   "cell_type": "markdown",
   "id": "c2d20009-d1e1-47ed-89fb-e9b591c66569",
   "metadata": {
    "tags": []
   },
   "source": [
    "### Make `price` binary\n",
    "\n",
    "* Now we need to turn the `price` variable from numeric into a binary format.\n",
    "* Let's create a variable `above_average` which is `1` if the `price` is above its mean value and `0` otherwise.\n"
   ]
  },
  {
   "cell_type": "code",
   "execution_count": 19,
   "id": "538bf871-6816-41cc-ad55-5b0951892d01",
   "metadata": {
    "tags": []
   },
   "outputs": [
    {
     "data": {
      "text/plain": [
       "40594.737032063116"
      ]
     },
     "execution_count": 19,
     "metadata": {},
     "output_type": "execute_result"
    }
   ],
   "source": [
    "df.price.mean()"
   ]
  },
  {
   "cell_type": "code",
   "execution_count": 20,
   "id": "f8960050-69c9-424f-aab3-f782834b8238",
   "metadata": {
    "tags": []
   },
   "outputs": [],
   "source": [
    "df[\"above_average\"]=(df.price>df.price.mean()).astype(\"int\")"
   ]
  },
  {
   "cell_type": "code",
   "execution_count": 21,
   "id": "6f04e0a3-0aa5-412e-aa95-7b6aa944a7f9",
   "metadata": {
    "tags": []
   },
   "outputs": [
    {
     "data": {
      "text/html": [
       "<div>\n",
       "<style scoped>\n",
       "    .dataframe tbody tr th:only-of-type {\n",
       "        vertical-align: middle;\n",
       "    }\n",
       "\n",
       "    .dataframe tbody tr th {\n",
       "        vertical-align: top;\n",
       "    }\n",
       "\n",
       "    .dataframe thead th {\n",
       "        text-align: right;\n",
       "    }\n",
       "</style>\n",
       "<table border=\"1\" class=\"dataframe\">\n",
       "  <thead>\n",
       "    <tr style=\"text-align: right;\">\n",
       "      <th></th>\n",
       "      <th>make</th>\n",
       "      <th>model</th>\n",
       "      <th>year</th>\n",
       "      <th>engine_fuel_type</th>\n",
       "      <th>engine_hp</th>\n",
       "      <th>engine_cylinders</th>\n",
       "      <th>transmission_type</th>\n",
       "      <th>driven_wheels</th>\n",
       "      <th>number_of_doors</th>\n",
       "      <th>market_category</th>\n",
       "      <th>vehicle_size</th>\n",
       "      <th>vehicle_style</th>\n",
       "      <th>highway_mpg</th>\n",
       "      <th>city_mpg</th>\n",
       "      <th>popularity</th>\n",
       "      <th>price</th>\n",
       "      <th>above_average</th>\n",
       "    </tr>\n",
       "  </thead>\n",
       "  <tbody>\n",
       "    <tr>\n",
       "      <th>0</th>\n",
       "      <td>BMW</td>\n",
       "      <td>1 Series M</td>\n",
       "      <td>2011</td>\n",
       "      <td>premium unleaded (required)</td>\n",
       "      <td>335.0</td>\n",
       "      <td>6.0</td>\n",
       "      <td>MANUAL</td>\n",
       "      <td>rear wheel drive</td>\n",
       "      <td>2.0</td>\n",
       "      <td>Factory Tuner,Luxury,High-Performance</td>\n",
       "      <td>Compact</td>\n",
       "      <td>Coupe</td>\n",
       "      <td>26</td>\n",
       "      <td>19</td>\n",
       "      <td>3916</td>\n",
       "      <td>46135</td>\n",
       "      <td>1</td>\n",
       "    </tr>\n",
       "    <tr>\n",
       "      <th>1</th>\n",
       "      <td>BMW</td>\n",
       "      <td>1 Series</td>\n",
       "      <td>2011</td>\n",
       "      <td>premium unleaded (required)</td>\n",
       "      <td>300.0</td>\n",
       "      <td>6.0</td>\n",
       "      <td>MANUAL</td>\n",
       "      <td>rear wheel drive</td>\n",
       "      <td>2.0</td>\n",
       "      <td>Luxury,Performance</td>\n",
       "      <td>Compact</td>\n",
       "      <td>Convertible</td>\n",
       "      <td>28</td>\n",
       "      <td>19</td>\n",
       "      <td>3916</td>\n",
       "      <td>40650</td>\n",
       "      <td>1</td>\n",
       "    </tr>\n",
       "    <tr>\n",
       "      <th>2</th>\n",
       "      <td>BMW</td>\n",
       "      <td>1 Series</td>\n",
       "      <td>2011</td>\n",
       "      <td>premium unleaded (required)</td>\n",
       "      <td>300.0</td>\n",
       "      <td>6.0</td>\n",
       "      <td>MANUAL</td>\n",
       "      <td>rear wheel drive</td>\n",
       "      <td>2.0</td>\n",
       "      <td>Luxury,High-Performance</td>\n",
       "      <td>Compact</td>\n",
       "      <td>Coupe</td>\n",
       "      <td>28</td>\n",
       "      <td>20</td>\n",
       "      <td>3916</td>\n",
       "      <td>36350</td>\n",
       "      <td>0</td>\n",
       "    </tr>\n",
       "    <tr>\n",
       "      <th>3</th>\n",
       "      <td>BMW</td>\n",
       "      <td>1 Series</td>\n",
       "      <td>2011</td>\n",
       "      <td>premium unleaded (required)</td>\n",
       "      <td>230.0</td>\n",
       "      <td>6.0</td>\n",
       "      <td>MANUAL</td>\n",
       "      <td>rear wheel drive</td>\n",
       "      <td>2.0</td>\n",
       "      <td>Luxury,Performance</td>\n",
       "      <td>Compact</td>\n",
       "      <td>Coupe</td>\n",
       "      <td>28</td>\n",
       "      <td>18</td>\n",
       "      <td>3916</td>\n",
       "      <td>29450</td>\n",
       "      <td>0</td>\n",
       "    </tr>\n",
       "    <tr>\n",
       "      <th>4</th>\n",
       "      <td>BMW</td>\n",
       "      <td>1 Series</td>\n",
       "      <td>2011</td>\n",
       "      <td>premium unleaded (required)</td>\n",
       "      <td>230.0</td>\n",
       "      <td>6.0</td>\n",
       "      <td>MANUAL</td>\n",
       "      <td>rear wheel drive</td>\n",
       "      <td>2.0</td>\n",
       "      <td>Luxury</td>\n",
       "      <td>Compact</td>\n",
       "      <td>Convertible</td>\n",
       "      <td>28</td>\n",
       "      <td>18</td>\n",
       "      <td>3916</td>\n",
       "      <td>34500</td>\n",
       "      <td>0</td>\n",
       "    </tr>\n",
       "  </tbody>\n",
       "</table>\n",
       "</div>"
      ],
      "text/plain": [
       "  make       model  year             engine_fuel_type  engine_hp  \\\n",
       "0  BMW  1 Series M  2011  premium unleaded (required)      335.0   \n",
       "1  BMW    1 Series  2011  premium unleaded (required)      300.0   \n",
       "2  BMW    1 Series  2011  premium unleaded (required)      300.0   \n",
       "3  BMW    1 Series  2011  premium unleaded (required)      230.0   \n",
       "4  BMW    1 Series  2011  premium unleaded (required)      230.0   \n",
       "\n",
       "   engine_cylinders transmission_type     driven_wheels  number_of_doors  \\\n",
       "0               6.0            MANUAL  rear wheel drive              2.0   \n",
       "1               6.0            MANUAL  rear wheel drive              2.0   \n",
       "2               6.0            MANUAL  rear wheel drive              2.0   \n",
       "3               6.0            MANUAL  rear wheel drive              2.0   \n",
       "4               6.0            MANUAL  rear wheel drive              2.0   \n",
       "\n",
       "                         market_category vehicle_size vehicle_style  \\\n",
       "0  Factory Tuner,Luxury,High-Performance      Compact         Coupe   \n",
       "1                     Luxury,Performance      Compact   Convertible   \n",
       "2                Luxury,High-Performance      Compact         Coupe   \n",
       "3                     Luxury,Performance      Compact         Coupe   \n",
       "4                                 Luxury      Compact   Convertible   \n",
       "\n",
       "   highway_mpg  city_mpg  popularity  price  above_average  \n",
       "0           26        19        3916  46135              1  \n",
       "1           28        19        3916  40650              1  \n",
       "2           28        20        3916  36350              0  \n",
       "3           28        18        3916  29450              0  \n",
       "4           28        18        3916  34500              0  "
      ]
     },
     "execution_count": 21,
     "metadata": {},
     "output_type": "execute_result"
    }
   ],
   "source": [
    "df.head()"
   ]
  },
  {
   "cell_type": "markdown",
   "id": "005d0345-cc73-4ae4-9103-55b3723e8db8",
   "metadata": {
    "tags": []
   },
   "source": [
    "### Split the data\n",
    "\n",
    "* Split your data in train/val/test sets with 60%/20%/20% distribution.\n",
    "* Use Scikit-Learn for that (the `train_test_split` function) and set the seed to `42`.\n",
    "* Make sure that the target value (`price`) is not in your dataframe."
   ]
  },
  {
   "cell_type": "code",
   "execution_count": 22,
   "id": "2986937e-f944-4477-a454-5c4edd13c9ca",
   "metadata": {
    "tags": []
   },
   "outputs": [],
   "source": [
    "from sklearn.model_selection import train_test_split"
   ]
  },
  {
   "cell_type": "code",
   "execution_count": 23,
   "id": "ad0d3ce4-0d6d-46f4-9a83-ad30a486fcdd",
   "metadata": {
    "tags": []
   },
   "outputs": [],
   "source": [
    "df_full_train,df_test=train_test_split(df,test_size=0.2,random_state=42)"
   ]
  },
  {
   "cell_type": "code",
   "execution_count": 24,
   "id": "0d415d55-9b92-42d6-a6c9-0e6223ee70b5",
   "metadata": {
    "tags": []
   },
   "outputs": [],
   "source": [
    "df_train,df_val=train_test_split(df_full_train,test_size=0.25,random_state=42)"
   ]
  },
  {
   "cell_type": "code",
   "execution_count": 25,
   "id": "7647475b-d2ee-461a-a622-de90135d5a57",
   "metadata": {
    "tags": []
   },
   "outputs": [
    {
     "data": {
      "text/plain": [
       "(9531, 7148, 2383, 2383)"
      ]
     },
     "execution_count": 25,
     "metadata": {},
     "output_type": "execute_result"
    }
   ],
   "source": [
    "len(df_full_train),len(df_train),len(df_test),len(df_val)"
   ]
  },
  {
   "cell_type": "code",
   "execution_count": 26,
   "id": "04aef079-1fa5-42cc-aec2-79fd7dba2a3c",
   "metadata": {
    "tags": []
   },
   "outputs": [],
   "source": [
    "df_train=df_train.reset_index(drop=True)\n",
    "df_val=df_val.reset_index(drop=True)\n",
    "df_test=df_test.reset_index(drop=True)\n",
    "df_full_train=df_full_train.reset_index(drop=True)"
   ]
  },
  {
   "cell_type": "code",
   "execution_count": 27,
   "id": "f6941eaf-ec97-4c56-b247-ba140d0650b0",
   "metadata": {
    "tags": []
   },
   "outputs": [],
   "source": [
    "y_train=df_train.above_average.values\n",
    "y_val=df_val.above_average.values\n",
    "y_test=df_test.above_average.values\n",
    "y_full_train=df_full_train.above_average.values\n"
   ]
  },
  {
   "cell_type": "code",
   "execution_count": null,
   "id": "233e7132-9b68-4bb6-9d9d-75c23e1ba709",
   "metadata": {
    "tags": []
   },
   "outputs": [],
   "source": [
    "\n"
   ]
  },
  {
   "cell_type": "code",
   "execution_count": 28,
   "id": "41b1ea1b-4537-41f1-a0cf-58b38d5cb82f",
   "metadata": {
    "tags": []
   },
   "outputs": [
    {
     "data": {
      "text/html": [
       "<div>\n",
       "<style scoped>\n",
       "    .dataframe tbody tr th:only-of-type {\n",
       "        vertical-align: middle;\n",
       "    }\n",
       "\n",
       "    .dataframe tbody tr th {\n",
       "        vertical-align: top;\n",
       "    }\n",
       "\n",
       "    .dataframe thead th {\n",
       "        text-align: right;\n",
       "    }\n",
       "</style>\n",
       "<table border=\"1\" class=\"dataframe\">\n",
       "  <thead>\n",
       "    <tr style=\"text-align: right;\">\n",
       "      <th></th>\n",
       "      <th>make</th>\n",
       "      <th>model</th>\n",
       "      <th>year</th>\n",
       "      <th>engine_fuel_type</th>\n",
       "      <th>engine_hp</th>\n",
       "      <th>engine_cylinders</th>\n",
       "      <th>transmission_type</th>\n",
       "      <th>driven_wheels</th>\n",
       "      <th>number_of_doors</th>\n",
       "      <th>market_category</th>\n",
       "      <th>vehicle_size</th>\n",
       "      <th>vehicle_style</th>\n",
       "      <th>highway_mpg</th>\n",
       "      <th>city_mpg</th>\n",
       "      <th>popularity</th>\n",
       "      <th>price</th>\n",
       "      <th>above_average</th>\n",
       "    </tr>\n",
       "  </thead>\n",
       "  <tbody>\n",
       "    <tr>\n",
       "      <th>0</th>\n",
       "      <td>Cadillac</td>\n",
       "      <td>CT6</td>\n",
       "      <td>2016</td>\n",
       "      <td>premium unleaded (recommended)</td>\n",
       "      <td>265.0</td>\n",
       "      <td>4.0</td>\n",
       "      <td>AUTOMATIC</td>\n",
       "      <td>rear wheel drive</td>\n",
       "      <td>4.0</td>\n",
       "      <td>Luxury</td>\n",
       "      <td>Large</td>\n",
       "      <td>Sedan</td>\n",
       "      <td>31</td>\n",
       "      <td>22</td>\n",
       "      <td>1624</td>\n",
       "      <td>53495</td>\n",
       "      <td>1</td>\n",
       "    </tr>\n",
       "    <tr>\n",
       "      <th>1</th>\n",
       "      <td>Mercedes-Benz</td>\n",
       "      <td>GLS-Class</td>\n",
       "      <td>2017</td>\n",
       "      <td>premium unleaded (required)</td>\n",
       "      <td>449.0</td>\n",
       "      <td>8.0</td>\n",
       "      <td>AUTOMATIC</td>\n",
       "      <td>all wheel drive</td>\n",
       "      <td>4.0</td>\n",
       "      <td>Crossover,Luxury,Performance</td>\n",
       "      <td>Large</td>\n",
       "      <td>4dr SUV</td>\n",
       "      <td>18</td>\n",
       "      <td>14</td>\n",
       "      <td>617</td>\n",
       "      <td>93850</td>\n",
       "      <td>1</td>\n",
       "    </tr>\n",
       "    <tr>\n",
       "      <th>2</th>\n",
       "      <td>Kia</td>\n",
       "      <td>Forte</td>\n",
       "      <td>2016</td>\n",
       "      <td>regular unleaded</td>\n",
       "      <td>173.0</td>\n",
       "      <td>4.0</td>\n",
       "      <td>AUTOMATIC</td>\n",
       "      <td>front wheel drive</td>\n",
       "      <td>2.0</td>\n",
       "      <td>NaN</td>\n",
       "      <td>Compact</td>\n",
       "      <td>Coupe</td>\n",
       "      <td>34</td>\n",
       "      <td>25</td>\n",
       "      <td>1720</td>\n",
       "      <td>19890</td>\n",
       "      <td>0</td>\n",
       "    </tr>\n",
       "    <tr>\n",
       "      <th>3</th>\n",
       "      <td>Dodge</td>\n",
       "      <td>RAM 250</td>\n",
       "      <td>1993</td>\n",
       "      <td>regular unleaded</td>\n",
       "      <td>180.0</td>\n",
       "      <td>6.0</td>\n",
       "      <td>MANUAL</td>\n",
       "      <td>rear wheel drive</td>\n",
       "      <td>2.0</td>\n",
       "      <td>NaN</td>\n",
       "      <td>Large</td>\n",
       "      <td>Regular Cab Pickup</td>\n",
       "      <td>16</td>\n",
       "      <td>11</td>\n",
       "      <td>1851</td>\n",
       "      <td>2000</td>\n",
       "      <td>0</td>\n",
       "    </tr>\n",
       "    <tr>\n",
       "      <th>4</th>\n",
       "      <td>Hyundai</td>\n",
       "      <td>Tiburon</td>\n",
       "      <td>2008</td>\n",
       "      <td>regular unleaded</td>\n",
       "      <td>172.0</td>\n",
       "      <td>6.0</td>\n",
       "      <td>AUTOMATIC</td>\n",
       "      <td>front wheel drive</td>\n",
       "      <td>2.0</td>\n",
       "      <td>Hatchback</td>\n",
       "      <td>Compact</td>\n",
       "      <td>2dr Hatchback</td>\n",
       "      <td>24</td>\n",
       "      <td>17</td>\n",
       "      <td>1439</td>\n",
       "      <td>21270</td>\n",
       "      <td>0</td>\n",
       "    </tr>\n",
       "    <tr>\n",
       "      <th>...</th>\n",
       "      <td>...</td>\n",
       "      <td>...</td>\n",
       "      <td>...</td>\n",
       "      <td>...</td>\n",
       "      <td>...</td>\n",
       "      <td>...</td>\n",
       "      <td>...</td>\n",
       "      <td>...</td>\n",
       "      <td>...</td>\n",
       "      <td>...</td>\n",
       "      <td>...</td>\n",
       "      <td>...</td>\n",
       "      <td>...</td>\n",
       "      <td>...</td>\n",
       "      <td>...</td>\n",
       "      <td>...</td>\n",
       "      <td>...</td>\n",
       "    </tr>\n",
       "    <tr>\n",
       "      <th>9526</th>\n",
       "      <td>Toyota</td>\n",
       "      <td>Venza</td>\n",
       "      <td>2014</td>\n",
       "      <td>regular unleaded</td>\n",
       "      <td>181.0</td>\n",
       "      <td>4.0</td>\n",
       "      <td>AUTOMATIC</td>\n",
       "      <td>front wheel drive</td>\n",
       "      <td>4.0</td>\n",
       "      <td>Crossover</td>\n",
       "      <td>Midsize</td>\n",
       "      <td>Wagon</td>\n",
       "      <td>26</td>\n",
       "      <td>20</td>\n",
       "      <td>2031</td>\n",
       "      <td>27950</td>\n",
       "      <td>0</td>\n",
       "    </tr>\n",
       "    <tr>\n",
       "      <th>9527</th>\n",
       "      <td>Pontiac</td>\n",
       "      <td>G6</td>\n",
       "      <td>2009</td>\n",
       "      <td>flex-fuel (unleaded/E85)</td>\n",
       "      <td>219.0</td>\n",
       "      <td>6.0</td>\n",
       "      <td>AUTOMATIC</td>\n",
       "      <td>front wheel drive</td>\n",
       "      <td>4.0</td>\n",
       "      <td>Flex Fuel</td>\n",
       "      <td>Midsize</td>\n",
       "      <td>Sedan</td>\n",
       "      <td>26</td>\n",
       "      <td>17</td>\n",
       "      <td>210</td>\n",
       "      <td>24710</td>\n",
       "      <td>0</td>\n",
       "    </tr>\n",
       "    <tr>\n",
       "      <th>9528</th>\n",
       "      <td>Volkswagen</td>\n",
       "      <td>Golf GTI</td>\n",
       "      <td>2016</td>\n",
       "      <td>premium unleaded (recommended)</td>\n",
       "      <td>220.0</td>\n",
       "      <td>4.0</td>\n",
       "      <td>AUTOMATED_MANUAL</td>\n",
       "      <td>front wheel drive</td>\n",
       "      <td>2.0</td>\n",
       "      <td>Hatchback,Performance</td>\n",
       "      <td>Compact</td>\n",
       "      <td>2dr Hatchback</td>\n",
       "      <td>33</td>\n",
       "      <td>25</td>\n",
       "      <td>873</td>\n",
       "      <td>27590</td>\n",
       "      <td>0</td>\n",
       "    </tr>\n",
       "    <tr>\n",
       "      <th>9529</th>\n",
       "      <td>Saab</td>\n",
       "      <td>9-5</td>\n",
       "      <td>2009</td>\n",
       "      <td>premium unleaded (recommended)</td>\n",
       "      <td>260.0</td>\n",
       "      <td>4.0</td>\n",
       "      <td>AUTOMATIC</td>\n",
       "      <td>front wheel drive</td>\n",
       "      <td>4.0</td>\n",
       "      <td>Luxury,Performance</td>\n",
       "      <td>Midsize</td>\n",
       "      <td>Wagon</td>\n",
       "      <td>27</td>\n",
       "      <td>17</td>\n",
       "      <td>376</td>\n",
       "      <td>43270</td>\n",
       "      <td>1</td>\n",
       "    </tr>\n",
       "    <tr>\n",
       "      <th>9530</th>\n",
       "      <td>Lexus</td>\n",
       "      <td>NX 200t</td>\n",
       "      <td>2015</td>\n",
       "      <td>premium unleaded (required)</td>\n",
       "      <td>235.0</td>\n",
       "      <td>4.0</td>\n",
       "      <td>AUTOMATIC</td>\n",
       "      <td>all wheel drive</td>\n",
       "      <td>4.0</td>\n",
       "      <td>Crossover,Luxury</td>\n",
       "      <td>Midsize</td>\n",
       "      <td>4dr SUV</td>\n",
       "      <td>28</td>\n",
       "      <td>21</td>\n",
       "      <td>454</td>\n",
       "      <td>35880</td>\n",
       "      <td>0</td>\n",
       "    </tr>\n",
       "  </tbody>\n",
       "</table>\n",
       "<p>9531 rows × 17 columns</p>\n",
       "</div>"
      ],
      "text/plain": [
       "               make      model  year                engine_fuel_type  \\\n",
       "0          Cadillac        CT6  2016  premium unleaded (recommended)   \n",
       "1     Mercedes-Benz  GLS-Class  2017     premium unleaded (required)   \n",
       "2               Kia      Forte  2016                regular unleaded   \n",
       "3             Dodge    RAM 250  1993                regular unleaded   \n",
       "4           Hyundai    Tiburon  2008                regular unleaded   \n",
       "...             ...        ...   ...                             ...   \n",
       "9526         Toyota      Venza  2014                regular unleaded   \n",
       "9527        Pontiac         G6  2009        flex-fuel (unleaded/E85)   \n",
       "9528     Volkswagen   Golf GTI  2016  premium unleaded (recommended)   \n",
       "9529           Saab        9-5  2009  premium unleaded (recommended)   \n",
       "9530          Lexus    NX 200t  2015     premium unleaded (required)   \n",
       "\n",
       "      engine_hp  engine_cylinders transmission_type      driven_wheels  \\\n",
       "0         265.0               4.0         AUTOMATIC   rear wheel drive   \n",
       "1         449.0               8.0         AUTOMATIC    all wheel drive   \n",
       "2         173.0               4.0         AUTOMATIC  front wheel drive   \n",
       "3         180.0               6.0            MANUAL   rear wheel drive   \n",
       "4         172.0               6.0         AUTOMATIC  front wheel drive   \n",
       "...         ...               ...               ...                ...   \n",
       "9526      181.0               4.0         AUTOMATIC  front wheel drive   \n",
       "9527      219.0               6.0         AUTOMATIC  front wheel drive   \n",
       "9528      220.0               4.0  AUTOMATED_MANUAL  front wheel drive   \n",
       "9529      260.0               4.0         AUTOMATIC  front wheel drive   \n",
       "9530      235.0               4.0         AUTOMATIC    all wheel drive   \n",
       "\n",
       "      number_of_doors               market_category vehicle_size  \\\n",
       "0                 4.0                        Luxury        Large   \n",
       "1                 4.0  Crossover,Luxury,Performance        Large   \n",
       "2                 2.0                           NaN      Compact   \n",
       "3                 2.0                           NaN        Large   \n",
       "4                 2.0                     Hatchback      Compact   \n",
       "...               ...                           ...          ...   \n",
       "9526              4.0                     Crossover      Midsize   \n",
       "9527              4.0                     Flex Fuel      Midsize   \n",
       "9528              2.0         Hatchback,Performance      Compact   \n",
       "9529              4.0            Luxury,Performance      Midsize   \n",
       "9530              4.0              Crossover,Luxury      Midsize   \n",
       "\n",
       "           vehicle_style  highway_mpg  city_mpg  popularity  price  \\\n",
       "0                  Sedan           31        22        1624  53495   \n",
       "1                4dr SUV           18        14         617  93850   \n",
       "2                  Coupe           34        25        1720  19890   \n",
       "3     Regular Cab Pickup           16        11        1851   2000   \n",
       "4          2dr Hatchback           24        17        1439  21270   \n",
       "...                  ...          ...       ...         ...    ...   \n",
       "9526               Wagon           26        20        2031  27950   \n",
       "9527               Sedan           26        17         210  24710   \n",
       "9528       2dr Hatchback           33        25         873  27590   \n",
       "9529               Wagon           27        17         376  43270   \n",
       "9530             4dr SUV           28        21         454  35880   \n",
       "\n",
       "      above_average  \n",
       "0                 1  \n",
       "1                 1  \n",
       "2                 0  \n",
       "3                 0  \n",
       "4                 0  \n",
       "...             ...  \n",
       "9526              0  \n",
       "9527              0  \n",
       "9528              0  \n",
       "9529              1  \n",
       "9530              0  \n",
       "\n",
       "[9531 rows x 17 columns]"
      ]
     },
     "execution_count": 28,
     "metadata": {},
     "output_type": "execute_result"
    }
   ],
   "source": [
    "df_full_train"
   ]
  },
  {
   "cell_type": "markdown",
   "id": "40afaecc-642f-4569-a366-ae812c595da2",
   "metadata": {
    "tags": []
   },
   "source": [
    "### Question 3\n",
    "\n",
    "* Calculate the mutual information score between `above_average` and other categorical variables in our dataset. \n",
    "  Use the training set only.\n",
    "* Round the scores to 2 decimals using `round(score, 2)`.\n",
    "\n",
    "Which of these variables has the lowest mutual information score?\n",
    "  \n",
    "- `make`\n",
    "- `model`\n",
    "- `transmission_type`\n",
    "- `vehicle_style`"
   ]
  },
  {
   "cell_type": "code",
   "execution_count": 29,
   "id": "40acb264-3007-491d-a728-095b27f689d3",
   "metadata": {
    "tags": []
   },
   "outputs": [
    {
     "data": {
      "text/html": [
       "<div>\n",
       "<style scoped>\n",
       "    .dataframe tbody tr th:only-of-type {\n",
       "        vertical-align: middle;\n",
       "    }\n",
       "\n",
       "    .dataframe tbody tr th {\n",
       "        vertical-align: top;\n",
       "    }\n",
       "\n",
       "    .dataframe thead th {\n",
       "        text-align: right;\n",
       "    }\n",
       "</style>\n",
       "<table border=\"1\" class=\"dataframe\">\n",
       "  <thead>\n",
       "    <tr style=\"text-align: right;\">\n",
       "      <th></th>\n",
       "      <th>make</th>\n",
       "      <th>model</th>\n",
       "      <th>year</th>\n",
       "      <th>engine_fuel_type</th>\n",
       "      <th>engine_hp</th>\n",
       "      <th>engine_cylinders</th>\n",
       "      <th>transmission_type</th>\n",
       "      <th>driven_wheels</th>\n",
       "      <th>number_of_doors</th>\n",
       "      <th>market_category</th>\n",
       "      <th>vehicle_size</th>\n",
       "      <th>vehicle_style</th>\n",
       "      <th>highway_mpg</th>\n",
       "      <th>city_mpg</th>\n",
       "      <th>popularity</th>\n",
       "      <th>price</th>\n",
       "      <th>above_average</th>\n",
       "    </tr>\n",
       "  </thead>\n",
       "  <tbody>\n",
       "    <tr>\n",
       "      <th>0</th>\n",
       "      <td>Mitsubishi</td>\n",
       "      <td>Endeavor</td>\n",
       "      <td>2011</td>\n",
       "      <td>premium unleaded (recommended)</td>\n",
       "      <td>225.0</td>\n",
       "      <td>6.0</td>\n",
       "      <td>AUTOMATIC</td>\n",
       "      <td>all wheel drive</td>\n",
       "      <td>4.0</td>\n",
       "      <td>Crossover</td>\n",
       "      <td>Midsize</td>\n",
       "      <td>4dr SUV</td>\n",
       "      <td>19</td>\n",
       "      <td>15</td>\n",
       "      <td>436</td>\n",
       "      <td>33599</td>\n",
       "      <td>0</td>\n",
       "    </tr>\n",
       "    <tr>\n",
       "      <th>1</th>\n",
       "      <td>Kia</td>\n",
       "      <td>Borrego</td>\n",
       "      <td>2009</td>\n",
       "      <td>regular unleaded</td>\n",
       "      <td>276.0</td>\n",
       "      <td>6.0</td>\n",
       "      <td>AUTOMATIC</td>\n",
       "      <td>rear wheel drive</td>\n",
       "      <td>4.0</td>\n",
       "      <td>NaN</td>\n",
       "      <td>Midsize</td>\n",
       "      <td>4dr SUV</td>\n",
       "      <td>21</td>\n",
       "      <td>17</td>\n",
       "      <td>1720</td>\n",
       "      <td>26245</td>\n",
       "      <td>0</td>\n",
       "    </tr>\n",
       "    <tr>\n",
       "      <th>2</th>\n",
       "      <td>Lamborghini</td>\n",
       "      <td>Gallardo</td>\n",
       "      <td>2012</td>\n",
       "      <td>premium unleaded (required)</td>\n",
       "      <td>570.0</td>\n",
       "      <td>10.0</td>\n",
       "      <td>MANUAL</td>\n",
       "      <td>all wheel drive</td>\n",
       "      <td>2.0</td>\n",
       "      <td>Exotic,Factory Tuner,High-Performance</td>\n",
       "      <td>Compact</td>\n",
       "      <td>Convertible</td>\n",
       "      <td>20</td>\n",
       "      <td>12</td>\n",
       "      <td>1158</td>\n",
       "      <td>248000</td>\n",
       "      <td>1</td>\n",
       "    </tr>\n",
       "    <tr>\n",
       "      <th>3</th>\n",
       "      <td>Chevrolet</td>\n",
       "      <td>Colorado</td>\n",
       "      <td>2016</td>\n",
       "      <td>regular unleaded</td>\n",
       "      <td>200.0</td>\n",
       "      <td>4.0</td>\n",
       "      <td>AUTOMATIC</td>\n",
       "      <td>rear wheel drive</td>\n",
       "      <td>4.0</td>\n",
       "      <td>Diesel</td>\n",
       "      <td>Compact</td>\n",
       "      <td>Crew Cab Pickup</td>\n",
       "      <td>27</td>\n",
       "      <td>20</td>\n",
       "      <td>1385</td>\n",
       "      <td>24990</td>\n",
       "      <td>0</td>\n",
       "    </tr>\n",
       "    <tr>\n",
       "      <th>4</th>\n",
       "      <td>Pontiac</td>\n",
       "      <td>Vibe</td>\n",
       "      <td>2009</td>\n",
       "      <td>regular unleaded</td>\n",
       "      <td>158.0</td>\n",
       "      <td>4.0</td>\n",
       "      <td>AUTOMATIC</td>\n",
       "      <td>all wheel drive</td>\n",
       "      <td>4.0</td>\n",
       "      <td>Hatchback</td>\n",
       "      <td>Compact</td>\n",
       "      <td>4dr Hatchback</td>\n",
       "      <td>26</td>\n",
       "      <td>20</td>\n",
       "      <td>210</td>\n",
       "      <td>20475</td>\n",
       "      <td>0</td>\n",
       "    </tr>\n",
       "  </tbody>\n",
       "</table>\n",
       "</div>"
      ],
      "text/plain": [
       "          make     model  year                engine_fuel_type  engine_hp  \\\n",
       "0   Mitsubishi  Endeavor  2011  premium unleaded (recommended)      225.0   \n",
       "1          Kia   Borrego  2009                regular unleaded      276.0   \n",
       "2  Lamborghini  Gallardo  2012     premium unleaded (required)      570.0   \n",
       "3    Chevrolet  Colorado  2016                regular unleaded      200.0   \n",
       "4      Pontiac      Vibe  2009                regular unleaded      158.0   \n",
       "\n",
       "   engine_cylinders transmission_type     driven_wheels  number_of_doors  \\\n",
       "0               6.0         AUTOMATIC   all wheel drive              4.0   \n",
       "1               6.0         AUTOMATIC  rear wheel drive              4.0   \n",
       "2              10.0            MANUAL   all wheel drive              2.0   \n",
       "3               4.0         AUTOMATIC  rear wheel drive              4.0   \n",
       "4               4.0         AUTOMATIC   all wheel drive              4.0   \n",
       "\n",
       "                         market_category vehicle_size    vehicle_style  \\\n",
       "0                              Crossover      Midsize          4dr SUV   \n",
       "1                                    NaN      Midsize          4dr SUV   \n",
       "2  Exotic,Factory Tuner,High-Performance      Compact      Convertible   \n",
       "3                                 Diesel      Compact  Crew Cab Pickup   \n",
       "4                              Hatchback      Compact    4dr Hatchback   \n",
       "\n",
       "   highway_mpg  city_mpg  popularity   price  above_average  \n",
       "0           19        15         436   33599              0  \n",
       "1           21        17        1720   26245              0  \n",
       "2           20        12        1158  248000              1  \n",
       "3           27        20        1385   24990              0  \n",
       "4           26        20         210   20475              0  "
      ]
     },
     "execution_count": 29,
     "metadata": {},
     "output_type": "execute_result"
    }
   ],
   "source": [
    "df_train.head()"
   ]
  },
  {
   "cell_type": "code",
   "execution_count": 30,
   "id": "7cc78bec-0fa9-41e6-953f-37db27d5d7b4",
   "metadata": {
    "tags": []
   },
   "outputs": [],
   "source": [
    "from sklearn.metrics import mutual_info_score"
   ]
  },
  {
   "cell_type": "code",
   "execution_count": 31,
   "id": "ec19bcb8-7f93-4218-af84-b0e76e3ab027",
   "metadata": {
    "tags": []
   },
   "outputs": [],
   "source": [
    "def mutual_info_above_average_score(series):\n",
    "    return mutual_info_score(df_full_train.above_average,series)"
   ]
  },
  {
   "cell_type": "code",
   "execution_count": 63,
   "id": "33ee3183-e4ec-4fae-806c-3b415a554003",
   "metadata": {
    "tags": []
   },
   "outputs": [
    {
     "data": {
      "text/plain": [
       "transmission_type    0.02\n",
       "highway_mpg          0.04\n",
       "city_mpg             0.06\n",
       "year                 0.07\n",
       "vehicle_style        0.08\n",
       "engine_cylinders     0.12\n",
       "make                 0.24\n",
       "engine_hp            0.36\n",
       "model                0.46\n",
       "dtype: float64"
      ]
     },
     "execution_count": 63,
     "metadata": {},
     "output_type": "execute_result"
    }
   ],
   "source": [
    "mi=df_full_train[base].apply(mutual_info_above_average_score)\n",
    "round(mi.sort_values(ascending=True),2)"
   ]
  },
  {
   "cell_type": "markdown",
   "id": "a6102302-79a7-43d4-817d-4e55429a0b88",
   "metadata": {},
   "source": [
    "### Question 4\n",
    "\n",
    "* Now let's train a logistic regression.\n",
    "* Remember that we have several categorical variables in the dataset. Include them using one-hot encoding.\n",
    "* Fit the model on the training dataset.\n",
    "    - To make sure the results are reproducible across different versions of Scikit-Learn, fit the model with these parameters:\n",
    "    - `model = LogisticRegression(solver='liblinear', C=10, max_iter=1000, random_state=42)`\n",
    "* Calculate the accuracy on the validation dataset and round it to 2 decimal digits.\n",
    "\n",
    "What accuracy did you get?\n",
    "\n",
    "- 0.60\n",
    "- 0.72\n",
    "- 0.84\n",
    "- 0.95"
   ]
  },
  {
   "cell_type": "code",
   "execution_count": 64,
   "id": "f5eb8f55-8288-4c49-a668-e3170730ec35",
   "metadata": {
    "tags": []
   },
   "outputs": [
    {
     "data": {
      "text/plain": [
       "make                  object\n",
       "model                 object\n",
       "year                   int64\n",
       "engine_fuel_type      object\n",
       "engine_hp            float64\n",
       "engine_cylinders     float64\n",
       "transmission_type     object\n",
       "driven_wheels         object\n",
       "number_of_doors      float64\n",
       "market_category       object\n",
       "vehicle_size          object\n",
       "vehicle_style         object\n",
       "highway_mpg            int64\n",
       "city_mpg               int64\n",
       "popularity             int64\n",
       "price                  int64\n",
       "above_average          int64\n",
       "dtype: object"
      ]
     },
     "execution_count": 64,
     "metadata": {},
     "output_type": "execute_result"
    }
   ],
   "source": [
    "df_train.dtypes"
   ]
  },
  {
   "cell_type": "code",
   "execution_count": 65,
   "id": "d012c666-222e-4973-82d9-d09767167db0",
   "metadata": {
    "tags": []
   },
   "outputs": [
    {
     "data": {
      "text/plain": [
       "make                   48\n",
       "model                 869\n",
       "year                   28\n",
       "engine_fuel_type       10\n",
       "engine_hp             339\n",
       "engine_cylinders        9\n",
       "transmission_type       5\n",
       "driven_wheels           4\n",
       "number_of_doors         3\n",
       "market_category        66\n",
       "vehicle_size            3\n",
       "vehicle_style          16\n",
       "highway_mpg            55\n",
       "city_mpg               62\n",
       "popularity             48\n",
       "price                4349\n",
       "above_average           2\n",
       "dtype: int64"
      ]
     },
     "execution_count": 65,
     "metadata": {},
     "output_type": "execute_result"
    }
   ],
   "source": [
    "df_train.nunique()"
   ]
  },
  {
   "cell_type": "code",
   "execution_count": 66,
   "id": "aa88c167-0def-46de-9247-1c7961519798",
   "metadata": {
    "tags": []
   },
   "outputs": [],
   "source": [
    "base=['make',\n",
    " 'model',\n",
    " 'year',\n",
    " 'engine_hp',\n",
    " 'engine_cylinders',\n",
    " 'transmission_type',\n",
    " 'vehicle_style',\n",
    " 'highway_mpg',\n",
    " 'city_mpg']"
   ]
  },
  {
   "cell_type": "code",
   "execution_count": 67,
   "id": "56b68c6a-df7c-49b9-804d-4e565036c113",
   "metadata": {
    "tags": []
   },
   "outputs": [],
   "source": [
    "train_dict=df_train[base].to_dict(orient=\"records\")"
   ]
  },
  {
   "cell_type": "code",
   "execution_count": 68,
   "id": "8f738fbf-5caf-479f-b5ef-94f2de7afeb5",
   "metadata": {
    "tags": []
   },
   "outputs": [],
   "source": [
    "from sklearn.feature_extraction import DictVectorizer\n",
    "dv = DictVectorizer(sparse=False)\n",
    "X_train=dv.fit_transform(train_dict)\n",
    "val_dict=df_val[base].to_dict(orient=\"records\")\n",
    "X_val = dv.transform(val_dict)"
   ]
  },
  {
   "cell_type": "code",
   "execution_count": 69,
   "id": "ed8b9f46-5b44-4a2d-b807-ce65067273ae",
   "metadata": {
    "tags": []
   },
   "outputs": [
    {
     "data": {
      "text/plain": [
       "array([[2.300e+01, 4.000e+00, 2.100e+02, ..., 0.000e+00, 0.000e+00,\n",
       "        2.015e+03],\n",
       "       [1.700e+01, 6.000e+00, 3.540e+02, ..., 0.000e+00, 0.000e+00,\n",
       "        2.015e+03],\n",
       "       [2.200e+01, 4.000e+00, 1.400e+02, ..., 1.000e+00, 0.000e+00,\n",
       "        2.005e+03],\n",
       "       ...,\n",
       "       [1.200e+01, 6.000e+00, 1.900e+02, ..., 0.000e+00, 0.000e+00,\n",
       "        2.003e+03],\n",
       "       [1.400e+01, 8.000e+00, 4.300e+02, ..., 0.000e+00, 0.000e+00,\n",
       "        2.015e+03],\n",
       "       [1.800e+01, 6.000e+00, 3.210e+02, ..., 1.000e+00, 0.000e+00,\n",
       "        2.015e+03]])"
      ]
     },
     "execution_count": 69,
     "metadata": {},
     "output_type": "execute_result"
    }
   ],
   "source": [
    "X_val"
   ]
  },
  {
   "cell_type": "code",
   "execution_count": 70,
   "id": "b6ae39e5-6d33-4b6f-ac6c-b1f958dc079e",
   "metadata": {
    "tags": []
   },
   "outputs": [],
   "source": [
    "from sklearn.linear_model import LogisticRegression"
   ]
  },
  {
   "cell_type": "code",
   "execution_count": 71,
   "id": "815a57a1-6d61-49d8-a7f0-9b07f4e09633",
   "metadata": {
    "tags": []
   },
   "outputs": [],
   "source": [
    "model = LogisticRegression(solver='liblinear', C=10, max_iter=1000, random_state=42)"
   ]
  },
  {
   "cell_type": "code",
   "execution_count": 72,
   "id": "069d27c1-a5c5-4b71-838c-7429d1973d90",
   "metadata": {
    "tags": []
   },
   "outputs": [
    {
     "data": {
      "text/html": [
       "<style>#sk-container-id-2 {color: black;}#sk-container-id-2 pre{padding: 0;}#sk-container-id-2 div.sk-toggleable {background-color: white;}#sk-container-id-2 label.sk-toggleable__label {cursor: pointer;display: block;width: 100%;margin-bottom: 0;padding: 0.3em;box-sizing: border-box;text-align: center;}#sk-container-id-2 label.sk-toggleable__label-arrow:before {content: \"▸\";float: left;margin-right: 0.25em;color: #696969;}#sk-container-id-2 label.sk-toggleable__label-arrow:hover:before {color: black;}#sk-container-id-2 div.sk-estimator:hover label.sk-toggleable__label-arrow:before {color: black;}#sk-container-id-2 div.sk-toggleable__content {max-height: 0;max-width: 0;overflow: hidden;text-align: left;background-color: #f0f8ff;}#sk-container-id-2 div.sk-toggleable__content pre {margin: 0.2em;color: black;border-radius: 0.25em;background-color: #f0f8ff;}#sk-container-id-2 input.sk-toggleable__control:checked~div.sk-toggleable__content {max-height: 200px;max-width: 100%;overflow: auto;}#sk-container-id-2 input.sk-toggleable__control:checked~label.sk-toggleable__label-arrow:before {content: \"▾\";}#sk-container-id-2 div.sk-estimator input.sk-toggleable__control:checked~label.sk-toggleable__label {background-color: #d4ebff;}#sk-container-id-2 div.sk-label input.sk-toggleable__control:checked~label.sk-toggleable__label {background-color: #d4ebff;}#sk-container-id-2 input.sk-hidden--visually {border: 0;clip: rect(1px 1px 1px 1px);clip: rect(1px, 1px, 1px, 1px);height: 1px;margin: -1px;overflow: hidden;padding: 0;position: absolute;width: 1px;}#sk-container-id-2 div.sk-estimator {font-family: monospace;background-color: #f0f8ff;border: 1px dotted black;border-radius: 0.25em;box-sizing: border-box;margin-bottom: 0.5em;}#sk-container-id-2 div.sk-estimator:hover {background-color: #d4ebff;}#sk-container-id-2 div.sk-parallel-item::after {content: \"\";width: 100%;border-bottom: 1px solid gray;flex-grow: 1;}#sk-container-id-2 div.sk-label:hover label.sk-toggleable__label {background-color: #d4ebff;}#sk-container-id-2 div.sk-serial::before {content: \"\";position: absolute;border-left: 1px solid gray;box-sizing: border-box;top: 0;bottom: 0;left: 50%;z-index: 0;}#sk-container-id-2 div.sk-serial {display: flex;flex-direction: column;align-items: center;background-color: white;padding-right: 0.2em;padding-left: 0.2em;position: relative;}#sk-container-id-2 div.sk-item {position: relative;z-index: 1;}#sk-container-id-2 div.sk-parallel {display: flex;align-items: stretch;justify-content: center;background-color: white;position: relative;}#sk-container-id-2 div.sk-item::before, #sk-container-id-2 div.sk-parallel-item::before {content: \"\";position: absolute;border-left: 1px solid gray;box-sizing: border-box;top: 0;bottom: 0;left: 50%;z-index: -1;}#sk-container-id-2 div.sk-parallel-item {display: flex;flex-direction: column;z-index: 1;position: relative;background-color: white;}#sk-container-id-2 div.sk-parallel-item:first-child::after {align-self: flex-end;width: 50%;}#sk-container-id-2 div.sk-parallel-item:last-child::after {align-self: flex-start;width: 50%;}#sk-container-id-2 div.sk-parallel-item:only-child::after {width: 0;}#sk-container-id-2 div.sk-dashed-wrapped {border: 1px dashed gray;margin: 0 0.4em 0.5em 0.4em;box-sizing: border-box;padding-bottom: 0.4em;background-color: white;}#sk-container-id-2 div.sk-label label {font-family: monospace;font-weight: bold;display: inline-block;line-height: 1.2em;}#sk-container-id-2 div.sk-label-container {text-align: center;}#sk-container-id-2 div.sk-container {/* jupyter's `normalize.less` sets `[hidden] { display: none; }` but bootstrap.min.css set `[hidden] { display: none !important; }` so we also need the `!important` here to be able to override the default hidden behavior on the sphinx rendered scikit-learn.org. See: https://github.com/scikit-learn/scikit-learn/issues/21755 */display: inline-block !important;position: relative;}#sk-container-id-2 div.sk-text-repr-fallback {display: none;}</style><div id=\"sk-container-id-2\" class=\"sk-top-container\"><div class=\"sk-text-repr-fallback\"><pre>LogisticRegression(C=10, max_iter=1000, random_state=42, solver=&#x27;liblinear&#x27;)</pre><b>In a Jupyter environment, please rerun this cell to show the HTML representation or trust the notebook. <br />On GitHub, the HTML representation is unable to render, please try loading this page with nbviewer.org.</b></div><div class=\"sk-container\" hidden><div class=\"sk-item\"><div class=\"sk-estimator sk-toggleable\"><input class=\"sk-toggleable__control sk-hidden--visually\" id=\"sk-estimator-id-2\" type=\"checkbox\" checked><label for=\"sk-estimator-id-2\" class=\"sk-toggleable__label sk-toggleable__label-arrow\">LogisticRegression</label><div class=\"sk-toggleable__content\"><pre>LogisticRegression(C=10, max_iter=1000, random_state=42, solver=&#x27;liblinear&#x27;)</pre></div></div></div></div></div>"
      ],
      "text/plain": [
       "LogisticRegression(C=10, max_iter=1000, random_state=42, solver='liblinear')"
      ]
     },
     "execution_count": 72,
     "metadata": {},
     "output_type": "execute_result"
    }
   ],
   "source": [
    "model.fit(X_train,y_train)"
   ]
  },
  {
   "cell_type": "code",
   "execution_count": 73,
   "id": "cba9dade-200d-4ec5-a997-579c25ca32c7",
   "metadata": {
    "tags": []
   },
   "outputs": [
    {
     "data": {
      "text/plain": [
       "-0.3499031192168502"
      ]
     },
     "execution_count": 73,
     "metadata": {},
     "output_type": "execute_result"
    }
   ],
   "source": [
    "# Bias \n",
    "model.intercept_[0]"
   ]
  },
  {
   "cell_type": "code",
   "execution_count": 74,
   "id": "6806322d-ab27-4956-87d8-f57add981dd9",
   "metadata": {
    "tags": []
   },
   "outputs": [
    {
     "data": {
      "text/plain": [
       "array([[ 7.600e-02, -1.280e-01,  3.700e-02, -2.000e-03,  1.315e+00,\n",
       "         1.774e+00,  5.850e-01,  2.762e+00,  2.142e+00,  1.760e-01,\n",
       "         0.000e+00, -4.770e-01,  2.101e+00, -1.269e+00, -1.335e+00,\n",
       "        -3.856e+00, -5.040e-01,  3.660e-01, -1.815e+00, -7.610e-01,\n",
       "         6.050e-01, -2.380e-01, -1.248e+00, -2.693e+00,  3.750e-01,\n",
       "        -1.490e+00,  1.000e-02,  1.928e+00,  1.248e+00,  1.197e+00,\n",
       "         4.014e+00,  1.038e+00,  5.000e-03, -1.658e+00,  0.000e+00,\n",
       "         8.740e-01, -1.991e+00, -8.740e-01, -1.418e+00, -3.450e-01,\n",
       "        -3.168e+00,  2.021e+00,  9.580e-01,  8.920e-01, -2.320e-01,\n",
       "         3.240e-01, -2.701e+00, -1.910e+00,  3.225e+00, -9.930e-01,\n",
       "        -5.730e-01,  1.262e+00, -1.346e+00, -3.940e-01, -4.700e-02,\n",
       "        -9.000e-03, -2.000e-03, -1.176e+00, -9.030e-01, -3.000e-03,\n",
       "        -4.000e-03, -3.000e-03, -1.880e-01, -2.300e-02,  1.647e+00,\n",
       "         4.320e-01, -4.520e-01, -6.500e-02, -1.640e-01, -1.610e-01,\n",
       "        -0.000e+00, -1.600e-02, -9.940e-01,  1.530e-01,  2.000e-02,\n",
       "         1.451e+00,  8.340e-01, -6.020e-01, -7.600e-02,  9.900e-02,\n",
       "         0.000e+00,  1.774e+00,  4.030e-01, -2.600e-02,  1.214e+00,\n",
       "         9.040e-01, -5.100e-02, -2.490e+00, -4.400e-02, -2.830e-01,\n",
       "        -7.900e-02,  2.600e-02, -2.550e-01,  2.000e-03,  0.000e+00,\n",
       "         2.500e-02,  0.000e+00, -1.070e-01,  4.350e-01,  1.750e-01,\n",
       "        -2.432e+00, -4.000e-03,  2.000e-03,  3.000e-03, -7.000e-03,\n",
       "         1.900e-01, -5.200e-02, -7.000e-03, -2.700e-02, -1.514e+00,\n",
       "        -5.200e-02, -1.047e+00, -1.540e-01,  9.190e-01,  7.340e-01,\n",
       "        -9.760e-01,  4.810e-01,  3.140e-01, -2.240e-01, -3.300e-01,\n",
       "        -9.600e-02,  8.180e-01, -4.090e-01, -1.200e-02, -1.310e-01,\n",
       "        -4.480e-01, -8.900e-02, -8.110e-01, -1.089e+00, -9.730e-01,\n",
       "         1.509e+00,  1.337e+00,  6.590e-01,  2.740e-01,  0.000e+00,\n",
       "         0.000e+00,  1.000e-03, -1.475e+00, -3.400e-01,  1.796e+00,\n",
       "         1.139e+00, -8.000e-03, -3.000e-03, -1.041e+00, -1.500e-01,\n",
       "        -2.430e-01, -6.800e-02, -9.000e-03,  5.700e-02,  4.700e-02,\n",
       "         1.000e-03, -5.200e-02, -7.000e-03, -6.200e-02, -3.510e-01,\n",
       "        -6.600e-01, -3.400e-02, -1.000e-01,  2.206e+00,  5.300e-02,\n",
       "        -5.190e-01, -0.000e+00, -1.800e-02, -1.000e-02, -8.900e-02,\n",
       "         1.579e+00, -8.940e-01,  1.341e+00, -8.900e-02,  0.000e+00,\n",
       "        -3.000e-03, -1.700e-01, -2.000e-03, -2.570e-01, -2.100e-02,\n",
       "         1.200e-02,  1.000e-03, -3.080e-01, -3.000e-03, -4.000e-03,\n",
       "        -6.000e-03, -6.740e-01, -2.500e-02, -3.600e-02, -2.050e-01,\n",
       "        -1.608e+00, -4.000e-03,  9.430e-01,  3.720e-01, -3.500e-02,\n",
       "        -1.350e-01, -1.265e+00,  6.470e-01, -7.040e-01, -2.000e-03,\n",
       "        -8.000e-03, -1.000e-03,  3.000e-03, -1.370e-01,  1.437e+00,\n",
       "        -1.000e-01, -2.500e-02, -8.000e-03, -1.080e-01, -5.260e-01,\n",
       "        -4.300e-02,  3.240e-01,  1.039e+00, -5.240e-01,  1.900e-02,\n",
       "        -5.090e-01,  1.335e+00,  1.790e-01, -4.760e-01, -1.800e-02,\n",
       "         5.200e-01,  1.263e+00,  1.200e-02, -7.300e-02,  0.000e+00,\n",
       "         0.000e+00,  0.000e+00, -5.900e-02, -3.210e-01, -4.810e-01,\n",
       "         5.320e-01, -3.200e-02, -3.110e-01,  8.680e-01, -8.000e-03,\n",
       "        -2.262e+00, -7.770e-01, -3.400e-01, -5.010e-01, -1.868e+00,\n",
       "        -5.700e-02, -5.700e-02, -6.000e-03,  0.000e+00, -1.700e-01,\n",
       "        -2.670e-01, -9.000e-03,  1.080e-01,  7.940e-01,  4.020e-01,\n",
       "        -1.000e-03, -2.900e-02, -1.600e-02, -1.489e+00, -1.783e+00,\n",
       "        -1.600e-02, -2.000e-03, -2.850e-01, -1.000e-03, -2.000e-03,\n",
       "        -2.000e-03, -1.010e-01, -1.360e+00, -1.400e-02, -1.430e-01,\n",
       "         2.232e+00,  1.000e-03,  0.000e+00,  5.000e-03,  0.000e+00,\n",
       "         0.000e+00,  0.000e+00,  0.000e+00,  0.000e+00,  0.000e+00,\n",
       "        -2.000e-03,  1.300e-01, -1.020e-01, -2.000e-03, -1.000e-03,\n",
       "         7.430e-01,  7.000e-02,  3.590e-01, -8.000e-03, -8.200e-02,\n",
       "        -4.910e-01, -1.900e-02, -2.600e-02, -7.300e-02, -1.600e-02,\n",
       "        -8.000e-03, -4.000e-03, -5.000e-03, -2.300e-02, -2.200e-02,\n",
       "        -3.300e-02,  8.000e-03,  1.000e-03,  2.600e-02,  1.275e+00,\n",
       "        -1.120e-01, -2.800e-02,  0.000e+00, -3.000e-03,  1.389e+00,\n",
       "        -5.200e-02,  3.000e-03, -5.000e-02,  4.110e-01, -2.750e-01,\n",
       "        -5.940e-01,  3.285e+00, -1.000e-03, -9.000e-03, -1.100e-02,\n",
       "         3.401e+00, -5.600e-02, -1.260e-01, -7.640e-01, -8.000e-03,\n",
       "        -6.000e-03, -1.930e-01,  7.010e-01, -2.243e+00, -2.695e+00,\n",
       "        -3.600e-02, -4.330e-01, -9.250e-01, -1.160e-01, -5.400e-02,\n",
       "        -5.300e-02, -6.000e-03, -6.000e-03, -3.000e-03, -3.010e-01,\n",
       "        -1.000e-02, -6.300e-02,  1.308e+00,  1.763e+00, -1.430e-01,\n",
       "        -1.900e-01, -6.200e-02,  9.220e-01, -1.610e+00, -1.330e+00,\n",
       "        -2.960e-01,  5.230e-01, -2.490e-01, -2.490e-01,  2.660e-01,\n",
       "         4.500e-02,  2.600e-02,  3.800e-02,  1.990e-01, -7.800e-02,\n",
       "        -1.300e-01, -2.000e-03,  1.890e-01, -2.000e-02, -2.300e-02,\n",
       "         1.115e+00, -0.000e+00,  1.402e+00,  2.150e+00,  3.500e-01,\n",
       "        -4.500e-02, -5.610e-01, -2.000e-03, -5.250e-01, -7.600e-02,\n",
       "         1.575e+00, -1.400e-02, -8.300e-02, -2.000e-02,  0.000e+00,\n",
       "         6.100e-02,  0.000e+00, -5.780e-01, -1.360e-01,  1.031e+00,\n",
       "         1.730e-01,  2.390e-01,  2.700e-02, -0.000e+00, -7.000e-03,\n",
       "        -5.570e-01, -1.100e-02, -6.300e-02, -8.610e-01,  8.200e-02,\n",
       "         2.000e-03, -3.700e-02, -3.300e-02, -1.700e-02, -3.620e-01,\n",
       "        -6.100e-02, -1.000e-03, -3.720e-01, -2.300e-02, -6.600e-02,\n",
       "        -1.032e+00, -1.790e-01, -1.410e-01,  5.820e-01,  3.060e-01,\n",
       "        -1.008e+00,  2.600e-02, -2.300e-02, -0.000e+00, -1.912e+00,\n",
       "        -1.601e+00,  2.910e-01, -7.550e-01, -7.050e-01, -5.000e-03,\n",
       "        -1.540e-01, -8.850e-01,  6.050e-01,  8.670e-01, -6.800e-01,\n",
       "        -4.370e-01,  9.630e-01,  2.300e-02, -2.020e-01, -2.385e+00,\n",
       "         2.000e-03,  1.587e+00,  7.570e-01,  8.010e-01, -9.960e-01,\n",
       "         2.770e-01,  7.600e-02,  2.540e-01,  1.300e-02,  6.000e-03,\n",
       "        -2.300e-01, -6.300e-01,  3.290e-01,  1.024e+00, -1.300e-02,\n",
       "         7.000e-03,  5.020e-01, -1.114e+00,  2.070e-01,  1.000e-03,\n",
       "         1.000e-03, -6.700e-02, -1.000e-02, -2.920e-01, -3.370e-01,\n",
       "        -1.490e-01,  1.190e-01,  5.000e-02,  1.300e-02, -1.800e-02,\n",
       "        -2.610e-01, -3.440e-01, -5.800e-02, -2.700e-02,  4.640e-01,\n",
       "        -7.020e-01, -1.130e-01, -5.100e-02, -5.100e-01,  5.010e-01,\n",
       "         7.800e-01, -0.000e+00,  0.000e+00, -2.770e-01, -2.810e-01,\n",
       "        -7.560e-01, -1.700e-02, -6.000e-01, -4.450e-01,  4.790e-01,\n",
       "        -2.280e-01, -6.120e-01,  5.200e-02,  1.000e-02,  2.210e-01,\n",
       "        -6.100e-01, -1.000e-03, -4.500e-02, -2.290e-01, -7.000e-03,\n",
       "        -1.060e-01, -2.800e-02, -1.100e-01, -1.340e-01,  4.740e-01,\n",
       "        -4.560e-01, -4.960e-01, -1.680e-01, -1.410e-01, -2.160e-01,\n",
       "        -5.310e-01, -9.700e-02, -0.000e+00,  7.110e-01, -1.230e-01,\n",
       "         0.000e+00, -8.300e-02, -1.600e-01,  2.820e-01,  1.920e-01,\n",
       "        -3.870e-01, -9.100e-01,  3.380e-01,  3.430e-01,  4.000e-03,\n",
       "        -2.900e-02, -5.000e-03, -1.230e-01,  6.180e-01,  5.700e-02,\n",
       "        -1.185e+00, -2.900e-02, -2.960e-01, -9.000e-03,  9.200e-02,\n",
       "        -1.500e-02, -5.000e-03, -1.000e-03, -6.300e-02, -7.200e-02,\n",
       "        -1.480e-01, -4.720e-01,  7.000e-03, -1.000e-03,  7.680e-01,\n",
       "        -1.500e-02, -3.000e-03,  1.060e+00,  1.589e+00,  9.600e-02,\n",
       "         1.100e-02, -8.000e-02,  1.740e+00,  2.320e-01,  2.300e-02,\n",
       "         1.056e+00,  0.000e+00,  3.700e-02,  0.000e+00,  0.000e+00,\n",
       "         1.690e+00, -1.810e-01, -7.310e-01,  4.820e-01, -9.740e-01,\n",
       "         5.860e-01, -1.900e-01,  0.000e+00, -6.700e-02, -5.000e-03,\n",
       "        -3.500e-02, -1.000e-03, -2.010e-01, -2.000e-03,  3.920e-01,\n",
       "        -1.228e+00, -2.970e-01, -3.300e-02, -1.000e-02, -4.300e-02,\n",
       "        -3.600e-02, -1.114e+00, -4.130e-01, -9.180e-01, -7.000e-03,\n",
       "        -1.077e+00,  0.000e+00, -1.200e-02, -2.400e-02, -4.000e-03,\n",
       "        -1.880e-01, -0.000e+00, -0.000e+00, -7.200e-02, -5.000e-03,\n",
       "        -1.000e-03,  3.225e+00, -1.000e-03, -4.200e-02, -6.000e-03,\n",
       "        -1.690e-01, -3.900e-02, -1.610e-01,  3.000e-03,  1.200e+00,\n",
       "         1.442e+00,  0.000e+00, -1.797e+00, -7.110e-01,  1.901e+00,\n",
       "        -4.000e-03, -1.000e-03, -2.047e+00,  2.350e-01, -7.000e-03,\n",
       "         1.690e-01, -2.500e-02, -1.260e-01, -2.500e-02, -4.800e-02,\n",
       "        -1.680e-01,  1.989e+00, -0.000e+00, -5.020e-01, -7.300e-02,\n",
       "        -3.250e-01, -1.750e-01, -1.700e-01, -1.600e-02, -3.150e-01,\n",
       "         5.290e-01,  7.100e-01, -2.000e-03, -5.040e-01, -1.570e-01,\n",
       "         1.870e-01,  1.546e+00,  3.900e-02,  2.700e-02,  5.000e-03,\n",
       "        -2.000e-03, -3.600e-02, -0.000e+00, -1.600e-02, -3.100e-02,\n",
       "        -6.400e-02, -6.000e-03, -1.800e-02, -8.900e-02, -3.000e-03,\n",
       "        -1.000e-03, -2.000e-03, -1.000e-03,  4.610e-01, -1.634e+00,\n",
       "        -6.190e-01,  2.120e-01,  6.450e-01,  7.480e-01,  4.550e-01,\n",
       "         2.616e+00,  6.500e-01,  1.299e+00,  6.000e-02, -3.890e-01,\n",
       "        -2.312e+00,  4.700e-01,  2.056e+00,  5.090e-01,  8.200e-02,\n",
       "         1.570e-01,  6.380e-01,  2.191e+00, -1.700e-02,  1.700e-02,\n",
       "        -5.000e-03, -3.000e-03, -3.780e-01,  1.108e+00, -2.480e-01,\n",
       "        -4.860e-01,  1.056e+00,  6.240e-01, -2.362e+00,  1.283e+00,\n",
       "         8.170e-01,  2.000e-02,  4.000e-03,  0.000e+00, -3.600e-02,\n",
       "        -7.410e-01, -9.090e-01,  7.890e-01,  3.930e-01,  1.900e-01,\n",
       "        -3.800e-02, -5.800e-02, -1.500e-02, -8.900e-02, -1.107e+00,\n",
       "        -1.100e-02, -0.000e+00, -5.000e-03, -1.302e+00, -5.000e-03,\n",
       "        -0.000e+00, -1.900e-02,  2.540e-01,  2.049e+00,  1.920e-01,\n",
       "        -1.300e-02,  1.800e-02,  1.000e-03, -2.800e-02, -7.610e-01,\n",
       "        -1.700e-02, -4.400e-02, -4.000e-03,  0.000e+00,  1.470e-01,\n",
       "        -2.900e-02, -5.800e-02, -4.440e-01, -2.220e-01, -3.900e-02,\n",
       "        -2.500e-02, -2.110e-01, -1.000e-02, -1.800e-02, -1.000e-03,\n",
       "        -1.200e-02,  1.400e-02, -2.680e-01,  1.560e-01,  2.840e-01,\n",
       "        -3.950e-01,  1.930e-01,  5.000e-03, -4.300e-01,  5.650e-01,\n",
       "         4.000e-03, -2.600e-01,  0.000e+00,  6.080e-01,  1.180e-01,\n",
       "        -2.840e-01, -7.820e-01,  1.260e-01,  3.900e-02,  8.000e-03,\n",
       "         9.060e-01,  0.000e+00,  0.000e+00,  0.000e+00,  0.000e+00,\n",
       "        -7.000e-02,  3.600e-02,  3.000e-03, -1.135e+00,  4.400e-01,\n",
       "         2.000e-03, -2.900e-02, -2.800e-02, -1.200e-02, -1.700e-02,\n",
       "        -0.000e+00, -7.800e-01, -3.070e-01, -7.310e-01, -2.900e-01,\n",
       "        -1.000e-03, -3.580e-01, -3.000e-02, -4.900e-02, -4.000e-03,\n",
       "         1.075e+00,  6.470e-01, -2.000e-03,  3.800e-02,  0.000e+00,\n",
       "        -7.000e-03,  1.022e+00,  1.600e+00, -9.140e-01,  1.018e+00,\n",
       "        -6.410e-01, -7.700e-02, -7.000e-03, -1.000e-03, -8.300e-02,\n",
       "         7.550e-01,  1.693e+00, -6.650e-01,  1.838e+00, -2.000e-02,\n",
       "        -1.670e-01, -2.700e-01, -8.200e-02, -3.000e-02, -4.000e-03,\n",
       "        -5.590e-01, -1.800e-02, -4.100e-02, -3.000e-03, -1.763e+00,\n",
       "        -1.800e-02, -0.000e+00, -3.430e-01, -9.000e-03,  6.900e-02,\n",
       "        -3.000e-03, -5.700e-02, -1.300e-02,  1.297e+00, -3.000e-03,\n",
       "        -3.000e-03, -1.000e-03, -6.000e-03, -1.000e-03, -1.800e-02,\n",
       "        -5.000e-03,  4.400e-02, -4.770e-01, -1.046e+00, -4.120e-01,\n",
       "         3.690e-01,  1.530e-01, -8.480e-01,  1.882e+00,  1.130e+00,\n",
       "        -8.300e-02, -8.340e-01, -3.200e-01, -1.000e-03, -1.000e-03,\n",
       "        -3.970e-01, -2.580e-01, -1.033e+00, -7.000e-03, -4.710e-01,\n",
       "        -1.365e+00, -1.000e-02, -1.760e-01,  3.291e+00,  2.800e-02,\n",
       "         2.530e+00, -1.700e-02, -2.100e-02, -3.332e+00, -8.770e-01,\n",
       "        -1.600e-02, -8.800e-02,  1.622e+00,  3.780e-01, -6.100e-02,\n",
       "        -2.060e-01, -4.230e-01, -5.900e-02, -5.000e-03, -8.900e-02,\n",
       "        -1.309e+00, -2.200e-01, -2.930e-01,  3.000e-02,  1.200e-02,\n",
       "         1.000e-03, -1.140e-01, -5.740e-01, -5.440e-01,  1.651e+00,\n",
       "        -1.820e-01,  4.860e-01, -1.000e-03, -1.000e-03, -6.000e-03,\n",
       "         1.000e-03, -0.000e+00, -3.900e-02, -4.400e-02, -1.011e+00,\n",
       "        -3.610e-01, -3.310e-01, -1.000e-02, -1.400e-02, -5.000e-03,\n",
       "         0.000e+00, -3.000e-03, -2.400e-02,  1.400e-02,  1.000e-03,\n",
       "        -1.400e-02, -4.300e-02, -5.590e-01, -7.300e-02, -1.100e-02,\n",
       "         0.000e+00, -1.000e-03, -2.050e+00, -1.620e-01,  6.100e-01,\n",
       "         4.060e-01,  0.000e+00,  1.760e-01,  0.000e+00, -5.500e-02,\n",
       "         3.010e-01,  7.160e-01,  1.401e+00, -3.000e-03, -1.300e-02,\n",
       "        -1.370e-01, -1.189e+00,  1.420e-01,  2.000e-03, -1.000e-03,\n",
       "         7.700e-02,  9.640e-01, -4.300e-02, -7.280e-01, -8.000e-03,\n",
       "        -1.000e-03,  8.220e-01, -6.800e-02,  9.710e-01,  1.047e+00,\n",
       "        -9.060e-01,  3.020e-01,  3.690e-01,  1.700e-02,  1.883e+00,\n",
       "         1.437e+00, -1.100e-01, -1.236e+00, -2.250e-01,  5.000e-03,\n",
       "        -6.000e-03, -3.000e-03, -4.800e-02, -3.000e-03, -3.000e-02,\n",
       "        -6.000e-03, -9.000e-03, -5.100e-02,  5.320e-01, -7.300e-01,\n",
       "        -9.100e-02, -1.707e+00,  3.180e-01, -1.201e+00,  1.164e+00,\n",
       "        -1.760e-01, -4.690e-01,  1.599e+00,  1.437e+00, -3.930e-01,\n",
       "         2.660e-01, -9.220e-01,  1.655e+00,  2.130e-01, -3.018e+00,\n",
       "         6.090e-01,  2.760e-01, -6.000e-03]])"
      ]
     },
     "execution_count": 74,
     "metadata": {},
     "output_type": "execute_result"
    }
   ],
   "source": [
    "model.coef_.round(3)"
   ]
  },
  {
   "cell_type": "code",
   "execution_count": 75,
   "id": "18e3e0c4-aabc-4b79-85c0-e3d93d4e7101",
   "metadata": {
    "tags": []
   },
   "outputs": [
    {
     "data": {
      "text/plain": [
       "array([0, 0, 1, ..., 0, 0, 0])"
      ]
     },
     "execution_count": 75,
     "metadata": {},
     "output_type": "execute_result"
    }
   ],
   "source": [
    "model.predict(X_train)"
   ]
  },
  {
   "cell_type": "code",
   "execution_count": 76,
   "id": "5b6d638c-b65b-4d61-82c8-f6095b50e219",
   "metadata": {
    "tags": []
   },
   "outputs": [],
   "source": [
    "y_pred=model.predict_proba(X_val)[:,1]"
   ]
  },
  {
   "cell_type": "code",
   "execution_count": 77,
   "id": "d50185fc-daf7-4ea5-902c-90115eba4afb",
   "metadata": {
    "tags": []
   },
   "outputs": [
    {
     "data": {
      "text/plain": [
       "array([1.59213958e-03, 9.95013070e-01, 2.14143302e-04, ...,\n",
       "       6.31038001e-04, 9.87567368e-01, 9.84569331e-01])"
      ]
     },
     "execution_count": 77,
     "metadata": {},
     "output_type": "execute_result"
    }
   ],
   "source": [
    "y_pred"
   ]
  },
  {
   "cell_type": "code",
   "execution_count": 78,
   "id": "18a01fc8-af2f-4bf4-b14e-84db1b5ec8c8",
   "metadata": {
    "tags": []
   },
   "outputs": [
    {
     "data": {
      "text/plain": [
       "array([0, 0, 1, ..., 0, 0, 0])"
      ]
     },
     "execution_count": 78,
     "metadata": {},
     "output_type": "execute_result"
    }
   ],
   "source": [
    "y_train"
   ]
  },
  {
   "cell_type": "code",
   "execution_count": 79,
   "id": "ca913dda-17ba-482f-acb2-af753cd33481",
   "metadata": {
    "tags": []
   },
   "outputs": [],
   "source": [
    "above_average_decision=(y_pred>=0.5)"
   ]
  },
  {
   "cell_type": "code",
   "execution_count": 80,
   "id": "0df95af3-512c-45b6-8928-ec22179df0f0",
   "metadata": {
    "tags": []
   },
   "outputs": [
    {
     "data": {
      "text/plain": [
       "array([False,  True, False, ..., False,  True,  True])"
      ]
     },
     "execution_count": 80,
     "metadata": {},
     "output_type": "execute_result"
    }
   ],
   "source": [
    "above_average_decision"
   ]
  },
  {
   "cell_type": "code",
   "execution_count": 81,
   "id": "edab5649-13b5-4acc-aae4-83c09eee8eaa",
   "metadata": {
    "tags": []
   },
   "outputs": [
    {
     "data": {
      "text/plain": [
       "0.9454469156525388"
      ]
     },
     "execution_count": 81,
     "metadata": {},
     "output_type": "execute_result"
    }
   ],
   "source": [
    "(y_val==above_average_decision).mean()"
   ]
  },
  {
   "cell_type": "code",
   "execution_count": 82,
   "id": "9a275d06-c9e0-4acf-ae60-39b16ec376f7",
   "metadata": {
    "tags": []
   },
   "outputs": [],
   "source": [
    "df_pred=pd.DataFrame()"
   ]
  },
  {
   "cell_type": "code",
   "execution_count": 83,
   "id": "cdfeae8f-a923-49ac-b8be-95f5f72d9909",
   "metadata": {
    "tags": []
   },
   "outputs": [],
   "source": [
    "df_pred[\"probability\"]=y_pred"
   ]
  },
  {
   "cell_type": "code",
   "execution_count": 84,
   "id": "2f4e9071-ebac-4b69-9589-eb93a6e8e020",
   "metadata": {
    "tags": []
   },
   "outputs": [],
   "source": [
    "df_pred[\"prediction\"]=above_average_decision.astype(\"int\")"
   ]
  },
  {
   "cell_type": "code",
   "execution_count": 85,
   "id": "a70ea2b6-b47d-4dfc-9ad3-7394cb27efe0",
   "metadata": {
    "tags": []
   },
   "outputs": [],
   "source": [
    "df_pred[\"actual\"]=y_val"
   ]
  },
  {
   "cell_type": "code",
   "execution_count": 86,
   "id": "ee90d932-429e-4967-ab08-3650c3b0087b",
   "metadata": {
    "tags": []
   },
   "outputs": [],
   "source": [
    "df_pred[\"correct\"]=df_pred.prediction == df_pred.actual"
   ]
  },
  {
   "cell_type": "code",
   "execution_count": 87,
   "id": "fdfc907f-fb65-48c7-bf42-ee11e955783b",
   "metadata": {
    "tags": []
   },
   "outputs": [],
   "source": [
    "x=df_pred.correct.mean()"
   ]
  },
  {
   "cell_type": "code",
   "execution_count": 88,
   "id": "c9b8c527-6d3e-4b83-8e1f-8137788f5582",
   "metadata": {
    "tags": []
   },
   "outputs": [],
   "source": [
    "acc_orj=df_pred.correct.mean()"
   ]
  },
  {
   "cell_type": "code",
   "execution_count": 89,
   "id": "e588b8ea-ee5f-4166-ae1d-415ae9bae03a",
   "metadata": {
    "collapsed": true,
    "jupyter": {
     "outputs_hidden": true
    },
    "tags": []
   },
   "outputs": [
    {
     "data": {
      "text/html": [
       "<div>\n",
       "<style scoped>\n",
       "    .dataframe tbody tr th:only-of-type {\n",
       "        vertical-align: middle;\n",
       "    }\n",
       "\n",
       "    .dataframe tbody tr th {\n",
       "        vertical-align: top;\n",
       "    }\n",
       "\n",
       "    .dataframe thead th {\n",
       "        text-align: right;\n",
       "    }\n",
       "</style>\n",
       "<table border=\"1\" class=\"dataframe\">\n",
       "  <thead>\n",
       "    <tr style=\"text-align: right;\">\n",
       "      <th></th>\n",
       "      <th>probability</th>\n",
       "      <th>prediction</th>\n",
       "      <th>actual</th>\n",
       "      <th>correct</th>\n",
       "    </tr>\n",
       "  </thead>\n",
       "  <tbody>\n",
       "    <tr>\n",
       "      <th>0</th>\n",
       "      <td>0.001592</td>\n",
       "      <td>0</td>\n",
       "      <td>0</td>\n",
       "      <td>True</td>\n",
       "    </tr>\n",
       "    <tr>\n",
       "      <th>1</th>\n",
       "      <td>0.995013</td>\n",
       "      <td>1</td>\n",
       "      <td>1</td>\n",
       "      <td>True</td>\n",
       "    </tr>\n",
       "    <tr>\n",
       "      <th>2</th>\n",
       "      <td>0.000214</td>\n",
       "      <td>0</td>\n",
       "      <td>0</td>\n",
       "      <td>True</td>\n",
       "    </tr>\n",
       "    <tr>\n",
       "      <th>3</th>\n",
       "      <td>0.206066</td>\n",
       "      <td>0</td>\n",
       "      <td>0</td>\n",
       "      <td>True</td>\n",
       "    </tr>\n",
       "    <tr>\n",
       "      <th>4</th>\n",
       "      <td>0.001812</td>\n",
       "      <td>0</td>\n",
       "      <td>0</td>\n",
       "      <td>True</td>\n",
       "    </tr>\n",
       "    <tr>\n",
       "      <th>5</th>\n",
       "      <td>0.000339</td>\n",
       "      <td>0</td>\n",
       "      <td>0</td>\n",
       "      <td>True</td>\n",
       "    </tr>\n",
       "    <tr>\n",
       "      <th>6</th>\n",
       "      <td>0.000947</td>\n",
       "      <td>0</td>\n",
       "      <td>0</td>\n",
       "      <td>True</td>\n",
       "    </tr>\n",
       "    <tr>\n",
       "      <th>7</th>\n",
       "      <td>0.137551</td>\n",
       "      <td>0</td>\n",
       "      <td>0</td>\n",
       "      <td>True</td>\n",
       "    </tr>\n",
       "    <tr>\n",
       "      <th>8</th>\n",
       "      <td>0.424989</td>\n",
       "      <td>0</td>\n",
       "      <td>0</td>\n",
       "      <td>True</td>\n",
       "    </tr>\n",
       "    <tr>\n",
       "      <th>9</th>\n",
       "      <td>0.000917</td>\n",
       "      <td>0</td>\n",
       "      <td>0</td>\n",
       "      <td>True</td>\n",
       "    </tr>\n",
       "    <tr>\n",
       "      <th>10</th>\n",
       "      <td>0.009812</td>\n",
       "      <td>0</td>\n",
       "      <td>0</td>\n",
       "      <td>True</td>\n",
       "    </tr>\n",
       "    <tr>\n",
       "      <th>11</th>\n",
       "      <td>0.018194</td>\n",
       "      <td>0</td>\n",
       "      <td>0</td>\n",
       "      <td>True</td>\n",
       "    </tr>\n",
       "    <tr>\n",
       "      <th>12</th>\n",
       "      <td>0.000020</td>\n",
       "      <td>0</td>\n",
       "      <td>0</td>\n",
       "      <td>True</td>\n",
       "    </tr>\n",
       "    <tr>\n",
       "      <th>13</th>\n",
       "      <td>0.199516</td>\n",
       "      <td>0</td>\n",
       "      <td>0</td>\n",
       "      <td>True</td>\n",
       "    </tr>\n",
       "    <tr>\n",
       "      <th>14</th>\n",
       "      <td>0.022934</td>\n",
       "      <td>0</td>\n",
       "      <td>0</td>\n",
       "      <td>True</td>\n",
       "    </tr>\n",
       "    <tr>\n",
       "      <th>15</th>\n",
       "      <td>0.778068</td>\n",
       "      <td>1</td>\n",
       "      <td>1</td>\n",
       "      <td>True</td>\n",
       "    </tr>\n",
       "    <tr>\n",
       "      <th>16</th>\n",
       "      <td>0.997029</td>\n",
       "      <td>1</td>\n",
       "      <td>1</td>\n",
       "      <td>True</td>\n",
       "    </tr>\n",
       "    <tr>\n",
       "      <th>17</th>\n",
       "      <td>0.924772</td>\n",
       "      <td>1</td>\n",
       "      <td>1</td>\n",
       "      <td>True</td>\n",
       "    </tr>\n",
       "    <tr>\n",
       "      <th>18</th>\n",
       "      <td>0.000366</td>\n",
       "      <td>0</td>\n",
       "      <td>0</td>\n",
       "      <td>True</td>\n",
       "    </tr>\n",
       "    <tr>\n",
       "      <th>19</th>\n",
       "      <td>0.909335</td>\n",
       "      <td>1</td>\n",
       "      <td>1</td>\n",
       "      <td>True</td>\n",
       "    </tr>\n",
       "    <tr>\n",
       "      <th>20</th>\n",
       "      <td>0.001703</td>\n",
       "      <td>0</td>\n",
       "      <td>0</td>\n",
       "      <td>True</td>\n",
       "    </tr>\n",
       "    <tr>\n",
       "      <th>21</th>\n",
       "      <td>0.002414</td>\n",
       "      <td>0</td>\n",
       "      <td>0</td>\n",
       "      <td>True</td>\n",
       "    </tr>\n",
       "    <tr>\n",
       "      <th>22</th>\n",
       "      <td>0.580019</td>\n",
       "      <td>1</td>\n",
       "      <td>0</td>\n",
       "      <td>False</td>\n",
       "    </tr>\n",
       "    <tr>\n",
       "      <th>23</th>\n",
       "      <td>0.006710</td>\n",
       "      <td>0</td>\n",
       "      <td>0</td>\n",
       "      <td>True</td>\n",
       "    </tr>\n",
       "    <tr>\n",
       "      <th>24</th>\n",
       "      <td>0.008717</td>\n",
       "      <td>0</td>\n",
       "      <td>0</td>\n",
       "      <td>True</td>\n",
       "    </tr>\n",
       "    <tr>\n",
       "      <th>25</th>\n",
       "      <td>0.000079</td>\n",
       "      <td>0</td>\n",
       "      <td>0</td>\n",
       "      <td>True</td>\n",
       "    </tr>\n",
       "    <tr>\n",
       "      <th>26</th>\n",
       "      <td>0.007778</td>\n",
       "      <td>0</td>\n",
       "      <td>0</td>\n",
       "      <td>True</td>\n",
       "    </tr>\n",
       "    <tr>\n",
       "      <th>27</th>\n",
       "      <td>0.011199</td>\n",
       "      <td>0</td>\n",
       "      <td>0</td>\n",
       "      <td>True</td>\n",
       "    </tr>\n",
       "    <tr>\n",
       "      <th>28</th>\n",
       "      <td>0.000482</td>\n",
       "      <td>0</td>\n",
       "      <td>0</td>\n",
       "      <td>True</td>\n",
       "    </tr>\n",
       "    <tr>\n",
       "      <th>29</th>\n",
       "      <td>0.000916</td>\n",
       "      <td>0</td>\n",
       "      <td>0</td>\n",
       "      <td>True</td>\n",
       "    </tr>\n",
       "    <tr>\n",
       "      <th>30</th>\n",
       "      <td>0.031554</td>\n",
       "      <td>0</td>\n",
       "      <td>0</td>\n",
       "      <td>True</td>\n",
       "    </tr>\n",
       "    <tr>\n",
       "      <th>31</th>\n",
       "      <td>0.000005</td>\n",
       "      <td>0</td>\n",
       "      <td>0</td>\n",
       "      <td>True</td>\n",
       "    </tr>\n",
       "    <tr>\n",
       "      <th>32</th>\n",
       "      <td>0.998702</td>\n",
       "      <td>1</td>\n",
       "      <td>1</td>\n",
       "      <td>True</td>\n",
       "    </tr>\n",
       "    <tr>\n",
       "      <th>33</th>\n",
       "      <td>0.089086</td>\n",
       "      <td>0</td>\n",
       "      <td>0</td>\n",
       "      <td>True</td>\n",
       "    </tr>\n",
       "    <tr>\n",
       "      <th>34</th>\n",
       "      <td>0.999730</td>\n",
       "      <td>1</td>\n",
       "      <td>1</td>\n",
       "      <td>True</td>\n",
       "    </tr>\n",
       "    <tr>\n",
       "      <th>35</th>\n",
       "      <td>0.953785</td>\n",
       "      <td>1</td>\n",
       "      <td>1</td>\n",
       "      <td>True</td>\n",
       "    </tr>\n",
       "    <tr>\n",
       "      <th>36</th>\n",
       "      <td>0.996198</td>\n",
       "      <td>1</td>\n",
       "      <td>1</td>\n",
       "      <td>True</td>\n",
       "    </tr>\n",
       "    <tr>\n",
       "      <th>37</th>\n",
       "      <td>0.166236</td>\n",
       "      <td>0</td>\n",
       "      <td>0</td>\n",
       "      <td>True</td>\n",
       "    </tr>\n",
       "    <tr>\n",
       "      <th>38</th>\n",
       "      <td>0.998618</td>\n",
       "      <td>1</td>\n",
       "      <td>1</td>\n",
       "      <td>True</td>\n",
       "    </tr>\n",
       "    <tr>\n",
       "      <th>39</th>\n",
       "      <td>0.354955</td>\n",
       "      <td>0</td>\n",
       "      <td>1</td>\n",
       "      <td>False</td>\n",
       "    </tr>\n",
       "    <tr>\n",
       "      <th>40</th>\n",
       "      <td>0.828913</td>\n",
       "      <td>1</td>\n",
       "      <td>1</td>\n",
       "      <td>True</td>\n",
       "    </tr>\n",
       "    <tr>\n",
       "      <th>41</th>\n",
       "      <td>0.865153</td>\n",
       "      <td>1</td>\n",
       "      <td>1</td>\n",
       "      <td>True</td>\n",
       "    </tr>\n",
       "    <tr>\n",
       "      <th>42</th>\n",
       "      <td>0.001311</td>\n",
       "      <td>0</td>\n",
       "      <td>0</td>\n",
       "      <td>True</td>\n",
       "    </tr>\n",
       "    <tr>\n",
       "      <th>43</th>\n",
       "      <td>0.000679</td>\n",
       "      <td>0</td>\n",
       "      <td>0</td>\n",
       "      <td>True</td>\n",
       "    </tr>\n",
       "    <tr>\n",
       "      <th>44</th>\n",
       "      <td>0.004263</td>\n",
       "      <td>0</td>\n",
       "      <td>0</td>\n",
       "      <td>True</td>\n",
       "    </tr>\n",
       "    <tr>\n",
       "      <th>45</th>\n",
       "      <td>0.140936</td>\n",
       "      <td>0</td>\n",
       "      <td>0</td>\n",
       "      <td>True</td>\n",
       "    </tr>\n",
       "    <tr>\n",
       "      <th>46</th>\n",
       "      <td>0.134280</td>\n",
       "      <td>0</td>\n",
       "      <td>0</td>\n",
       "      <td>True</td>\n",
       "    </tr>\n",
       "    <tr>\n",
       "      <th>47</th>\n",
       "      <td>0.005398</td>\n",
       "      <td>0</td>\n",
       "      <td>0</td>\n",
       "      <td>True</td>\n",
       "    </tr>\n",
       "    <tr>\n",
       "      <th>48</th>\n",
       "      <td>0.006489</td>\n",
       "      <td>0</td>\n",
       "      <td>0</td>\n",
       "      <td>True</td>\n",
       "    </tr>\n",
       "    <tr>\n",
       "      <th>49</th>\n",
       "      <td>0.010202</td>\n",
       "      <td>0</td>\n",
       "      <td>0</td>\n",
       "      <td>True</td>\n",
       "    </tr>\n",
       "  </tbody>\n",
       "</table>\n",
       "</div>"
      ],
      "text/plain": [
       "    probability  prediction  actual  correct\n",
       "0      0.001592           0       0     True\n",
       "1      0.995013           1       1     True\n",
       "2      0.000214           0       0     True\n",
       "3      0.206066           0       0     True\n",
       "4      0.001812           0       0     True\n",
       "5      0.000339           0       0     True\n",
       "6      0.000947           0       0     True\n",
       "7      0.137551           0       0     True\n",
       "8      0.424989           0       0     True\n",
       "9      0.000917           0       0     True\n",
       "10     0.009812           0       0     True\n",
       "11     0.018194           0       0     True\n",
       "12     0.000020           0       0     True\n",
       "13     0.199516           0       0     True\n",
       "14     0.022934           0       0     True\n",
       "15     0.778068           1       1     True\n",
       "16     0.997029           1       1     True\n",
       "17     0.924772           1       1     True\n",
       "18     0.000366           0       0     True\n",
       "19     0.909335           1       1     True\n",
       "20     0.001703           0       0     True\n",
       "21     0.002414           0       0     True\n",
       "22     0.580019           1       0    False\n",
       "23     0.006710           0       0     True\n",
       "24     0.008717           0       0     True\n",
       "25     0.000079           0       0     True\n",
       "26     0.007778           0       0     True\n",
       "27     0.011199           0       0     True\n",
       "28     0.000482           0       0     True\n",
       "29     0.000916           0       0     True\n",
       "30     0.031554           0       0     True\n",
       "31     0.000005           0       0     True\n",
       "32     0.998702           1       1     True\n",
       "33     0.089086           0       0     True\n",
       "34     0.999730           1       1     True\n",
       "35     0.953785           1       1     True\n",
       "36     0.996198           1       1     True\n",
       "37     0.166236           0       0     True\n",
       "38     0.998618           1       1     True\n",
       "39     0.354955           0       1    False\n",
       "40     0.828913           1       1     True\n",
       "41     0.865153           1       1     True\n",
       "42     0.001311           0       0     True\n",
       "43     0.000679           0       0     True\n",
       "44     0.004263           0       0     True\n",
       "45     0.140936           0       0     True\n",
       "46     0.134280           0       0     True\n",
       "47     0.005398           0       0     True\n",
       "48     0.006489           0       0     True\n",
       "49     0.010202           0       0     True"
      ]
     },
     "execution_count": 89,
     "metadata": {},
     "output_type": "execute_result"
    }
   ],
   "source": [
    "df_pred.head(50)"
   ]
  },
  {
   "cell_type": "code",
   "execution_count": 90,
   "id": "97ce64e9-9233-4ac1-95fb-df26cf594be2",
   "metadata": {
    "tags": []
   },
   "outputs": [
    {
     "data": {
      "text/plain": [
       "0.0"
      ]
     },
     "execution_count": 90,
     "metadata": {},
     "output_type": "execute_result"
    }
   ],
   "source": [
    "x-acc_orj"
   ]
  },
  {
   "cell_type": "code",
   "execution_count": 91,
   "id": "0d8404d6-117d-4085-9c9c-481bc0e60f4e",
   "metadata": {
    "tags": []
   },
   "outputs": [
    {
     "data": {
      "text/plain": [
       "0.9454469156525388"
      ]
     },
     "execution_count": 91,
     "metadata": {},
     "output_type": "execute_result"
    }
   ],
   "source": [
    "acc_orj"
   ]
  },
  {
   "cell_type": "markdown",
   "id": "b5034cef-7b66-4fb2-ba93-68cc3b661cb9",
   "metadata": {
    "tags": []
   },
   "source": [
    "### Question 5 \n",
    "\n",
    "* Let's find the least useful feature using the *feature elimination* technique.\n",
    "* Train a model with all these features (using the same parameters as in Q4).\n",
    "* Now exclude each feature from this set and train a model without it. Record the accuracy for each model.\n",
    "* For each feature, calculate the difference between the original accuracy and the accuracy without the feature. \n",
    "\n",
    "Which of following feature has the smallest difference?\n",
    "\n",
    "- `year`\n",
    "- `engine_hp`\n",
    "- `transmission_type`\n",
    "- `city_mpg`\n",
    "\n",
    "> **Note**: the difference doesn't have to be positive"
   ]
  },
  {
   "cell_type": "code",
   "execution_count": 92,
   "id": "04495a6e-954c-41e8-b7d5-04a9a4230d32",
   "metadata": {
    "tags": []
   },
   "outputs": [
    {
     "data": {
      "text/plain": [
       "transmission_type    0.02\n",
       "highway_mpg          0.04\n",
       "city_mpg             0.06\n",
       "year                 0.07\n",
       "vehicle_style        0.08\n",
       "engine_cylinders     0.12\n",
       "make                 0.24\n",
       "engine_hp            0.36\n",
       "model                0.46\n",
       "dtype: float64"
      ]
     },
     "execution_count": 92,
     "metadata": {},
     "output_type": "execute_result"
    }
   ],
   "source": [
    "round(mi.sort_values(ascending=True),2)"
   ]
  },
  {
   "cell_type": "code",
   "execution_count": 107,
   "id": "8a284de6-8b38-4b0f-8a0b-344dba5ad6cf",
   "metadata": {
    "tags": []
   },
   "outputs": [],
   "source": [
    "base=['make',\n",
    " 'model',\n",
    " 'year',\n",
    " 'engine_hp',\n",
    " 'engine_cylinders',\n",
    " 'transmission_type',\n",
    " 'vehicle_style',\n",
    " 'highway_mpg',\n",
    " 'city_mpg']"
   ]
  },
  {
   "cell_type": "code",
   "execution_count": 108,
   "id": "c065f8b3-2dbe-4f8c-b23c-c5df24c90e77",
   "metadata": {
    "tags": []
   },
   "outputs": [],
   "source": [
    "acc={}\n",
    "\n",
    "n=len(base)\n",
    "\n",
    "for i in range(len(base)):\n",
    "    \n",
    "    a=base.pop(i)\n",
    "    df_pred=pd.DataFrame()\n",
    "    dv = DictVectorizer(sparse=False)\n",
    "    \n",
    "    train_dict=df_train[base].to_dict(orient=\"records\")\n",
    "    X_train=dv.fit_transform(train_dict)\n",
    "    val_dict=df_val[base].to_dict(orient=\"records\")\n",
    "    X_val = dv.transform(val_dict)\n",
    "    model = LogisticRegression(solver='liblinear', C=10, max_iter=1000, random_state=42)\n",
    "    model.fit(X_train,y_train)\n",
    "    y_pred=model.predict_proba(X_val)[:,1]\n",
    "    above_average_decision=(y_pred>=0.5)\n",
    "\n",
    "    df_pred[\"probability\"]=y_pred\n",
    "    df_pred[\"prediction\"]=above_average_decision.astype(\"int\")\n",
    "    df_pred[\"actual\"]=y_val\n",
    "    df_pred[\"correct\"]=df_pred.prediction == df_pred.actual\n",
    "    acc[a]=acc_orj - df_pred.correct.mean()\n",
    "    \n",
    "    base=['make',\n",
    " 'model',\n",
    " 'year',\n",
    " 'engine_hp',\n",
    " 'engine_cylinders',\n",
    " 'transmission_type',\n",
    " 'vehicle_style',\n",
    " 'highway_mpg','city_mpg']\n",
    "\n",
    "    "
   ]
  },
  {
   "cell_type": "code",
   "execution_count": 109,
   "id": "44a93b0e-cbbe-4c40-b87b-783ff0b7fb21",
   "metadata": {
    "tags": []
   },
   "outputs": [
    {
     "data": {
      "text/plain": [
       "{'make': -0.0012589173310952884,\n",
       " 'model': 0.026017624842635367,\n",
       " 'year': -0.0016785564414603105,\n",
       " 'engine_hp': 0.022660511959714635,\n",
       " 'engine_cylinders': 0.0,\n",
       " 'transmission_type': 0.005035669324381042,\n",
       " 'vehicle_style': 0.013428451531682706,\n",
       " 'highway_mpg': -0.0012589173310952884,\n",
       " 'city_mpg': -0.00041963911036513313}"
      ]
     },
     "execution_count": 109,
     "metadata": {},
     "output_type": "execute_result"
    }
   ],
   "source": [
    "acc"
   ]
  },
  {
   "cell_type": "markdown",
   "id": "05820193-63c9-46ee-89d8-b659436b3eee",
   "metadata": {},
   "source": [
    "### Question 6\n",
    "\n",
    "* For this question, we'll see how to use a linear regression model from Scikit-Learn.\n",
    "* We'll need to use the original column `price`. Apply the logarithmic transformation to this column.\n",
    "* Fit the Ridge regression model on the training data with a solver `'sag'`. Set the seed to `42`.\n",
    "* This model also has a parameter `alpha`. Let's try the following values: `[0, 0.01, 0.1, 1, 10]`.\n",
    "* Round your RMSE scores to 3 decimal digits.\n",
    "\n",
    "Which of these alphas leads to the best RMSE on the validation set?\n",
    "\n",
    "- 0\n",
    "- 0.01\n",
    "- 0.1\n",
    "- 1\n",
    "- 10\n",
    "\n",
    "> **Note**: If there are multiple options, select the smallest `alpha`."
   ]
  },
  {
   "cell_type": "code",
   "execution_count": 119,
   "id": "1c1c1e58-7a67-4ab5-a26a-3801fd32385e",
   "metadata": {
    "tags": []
   },
   "outputs": [],
   "source": [
    "from sklearn.linear_model import Ridge\n",
    "from sklearn.metrics import mean_squared_error\n",
    "from math import sqrt"
   ]
  },
  {
   "cell_type": "code",
   "execution_count": 115,
   "id": "37cf2010-9581-4aab-89bb-06a5e0877088",
   "metadata": {},
   "outputs": [],
   "source": [
    "df_train[\"price\"]=np.log1p(df_train[\"price\"])\n",
    "df_val[\"price\"]=np.log1p(df_val[\"price\"])\n",
    "df_test[\"price\"]=np.log1p(df_test[\"price\"])"
   ]
  },
  {
   "cell_type": "code",
   "execution_count": 122,
   "id": "04ac0c68-5174-4c4d-8df1-eaec1ceab26b",
   "metadata": {
    "tags": []
   },
   "outputs": [],
   "source": [
    "y_train=df_train[\"price\"].values\n",
    "y_val=df_val[\"price\"].values\n",
    "y_test=df_test[\"price\"].values"
   ]
  },
  {
   "cell_type": "code",
   "execution_count": 123,
   "id": "94f394ac-f877-496a-b587-a1fdebb2e34a",
   "metadata": {
    "tags": []
   },
   "outputs": [],
   "source": [
    "alpha_values = [0, 0.01, 0.1, 1, 10]"
   ]
  },
  {
   "cell_type": "code",
   "execution_count": 124,
   "id": "5b5ab11c-23dc-42ad-83da-5ddbd377344e",
   "metadata": {
    "tags": []
   },
   "outputs": [
    {
     "name": "stderr",
     "output_type": "stream",
     "text": [
      "/home/ubuntu/anaconda3/lib/python3.11/site-packages/sklearn/linear_model/_sag.py:350: ConvergenceWarning: The max_iter was reached which means the coef_ did not converge\n",
      "  warnings.warn(\n",
      "/home/ubuntu/anaconda3/lib/python3.11/site-packages/sklearn/linear_model/_sag.py:350: ConvergenceWarning: The max_iter was reached which means the coef_ did not converge\n",
      "  warnings.warn(\n",
      "/home/ubuntu/anaconda3/lib/python3.11/site-packages/sklearn/linear_model/_sag.py:350: ConvergenceWarning: The max_iter was reached which means the coef_ did not converge\n",
      "  warnings.warn(\n",
      "/home/ubuntu/anaconda3/lib/python3.11/site-packages/sklearn/linear_model/_sag.py:350: ConvergenceWarning: The max_iter was reached which means the coef_ did not converge\n",
      "  warnings.warn(\n"
     ]
    },
    {
     "name": "stdout",
     "output_type": "stream",
     "text": [
      "Alpha: 0, RMSE: 7.766\n",
      "Alpha: 0.01, RMSE: 7.766\n",
      "Alpha: 0.1, RMSE: 7.766\n",
      "Alpha: 1, RMSE: 7.766\n",
      "Alpha: 10, RMSE: 7.766\n"
     ]
    },
    {
     "name": "stderr",
     "output_type": "stream",
     "text": [
      "/home/ubuntu/anaconda3/lib/python3.11/site-packages/sklearn/linear_model/_sag.py:350: ConvergenceWarning: The max_iter was reached which means the coef_ did not converge\n",
      "  warnings.warn(\n"
     ]
    }
   ],
   "source": [
    "rmse_scores = {}\n",
    "for alpha in alpha_values:\n",
    "    model = Ridge(alpha=alpha, solver='sag', random_state=42)\n",
    "    model.fit(X_train, y_train)\n",
    "    y_pred = model.predict(X_val)\n",
    "    rmse = round(sqrt(mean_squared_error(y_val, y_pred)), 3)\n",
    "    \n",
    "    rmse_scores[alpha] = rmse\n",
    "    \n",
    "for alpha, rmse in rmse_scores.items():\n",
    "    print(f\"Alpha: {alpha}, RMSE: {rmse}\")\n",
    "    "
   ]
  },
  {
   "cell_type": "code",
   "execution_count": null,
   "id": "6b467fa4-3d49-46c9-b6e8-dc750c8b4f00",
   "metadata": {
    "tags": []
   },
   "outputs": [],
   "source": []
  },
  {
   "cell_type": "code",
   "execution_count": null,
   "id": "7ac23de8-22df-42dc-8586-bd8513f66d9d",
   "metadata": {},
   "outputs": [],
   "source": []
  }
 ],
 "metadata": {
  "kernelspec": {
   "display_name": "Python 3 (ipykernel)",
   "language": "python",
   "name": "python3"
  },
  "language_info": {
   "codemirror_mode": {
    "name": "ipython",
    "version": 3
   },
   "file_extension": ".py",
   "mimetype": "text/x-python",
   "name": "python",
   "nbconvert_exporter": "python",
   "pygments_lexer": "ipython3",
   "version": "3.11.4"
  }
 },
 "nbformat": 4,
 "nbformat_minor": 5
}
