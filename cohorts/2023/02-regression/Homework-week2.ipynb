{
 "cells": [
  {
   "cell_type": "code",
   "execution_count": 22,
   "id": "4546cdc7-57ed-4fd2-afbf-c627f3fdd9c9",
   "metadata": {
    "tags": []
   },
   "outputs": [],
   "source": [
    "import pandas as pd\n",
    "import numpy as np\n",
    "import seaborn as sns\n",
    "import matplotlib.pyplot as plt\n",
    "%matplotlib inline\n"
   ]
  },
  {
   "cell_type": "code",
   "execution_count": 2,
   "id": "e2757d87-bfb9-4f19-8380-2d9e1f88735e",
   "metadata": {
    "tags": []
   },
   "outputs": [
    {
     "name": "stdout",
     "output_type": "stream",
     "text": [
      "--2023-09-21 02:37:02--  https://raw.githubusercontent.com/alexeygrigorev/datasets/master/housing.csv\n",
      "Resolving raw.githubusercontent.com (raw.githubusercontent.com)... 185.199.108.133, 185.199.109.133, 185.199.110.133, ...\n",
      "Connecting to raw.githubusercontent.com (raw.githubusercontent.com)|185.199.108.133|:443... connected.\n",
      "HTTP request sent, awaiting response... 200 OK\n",
      "Length: 1423529 (1.4M) [text/plain]\n",
      "Saving to: ‘housing.csv.1’\n",
      "\n",
      "housing.csv.1       100%[===================>]   1.36M  --.-KB/s    in 0.03s   \n",
      "\n",
      "2023-09-21 02:37:02 (44.5 MB/s) - ‘housing.csv.1’ saved [1423529/1423529]\n",
      "\n"
     ]
    }
   ],
   "source": [
    "!wget https://raw.githubusercontent.com/alexeygrigorev/datasets/master/housing.csv"
   ]
  },
  {
   "cell_type": "markdown",
   "id": "23bb0cba-cbea-4f49-b086-e0146c11cd24",
   "metadata": {
    "tags": []
   },
   "source": [
    "### **EDA**"
   ]
  },
  {
   "cell_type": "markdown",
   "id": "304dfb4e-77f2-4430-98ca-67d7d831d5b1",
   "metadata": {},
   "source": [
    "Load the data.\n",
    "Look at the median_house_value variable. Does it have a long tail?"
   ]
  },
  {
   "cell_type": "code",
   "execution_count": 71,
   "id": "bca751fd-5ec3-4287-83cf-c4448835376e",
   "metadata": {
    "tags": []
   },
   "outputs": [],
   "source": [
    "df=pd.read_csv(\"housing.csv\")"
   ]
  },
  {
   "cell_type": "code",
   "execution_count": 72,
   "id": "8327ee1c-251c-453e-9ea4-04d1613f6a20",
   "metadata": {
    "tags": []
   },
   "outputs": [
    {
     "data": {
      "text/html": [
       "<div>\n",
       "<style scoped>\n",
       "    .dataframe tbody tr th:only-of-type {\n",
       "        vertical-align: middle;\n",
       "    }\n",
       "\n",
       "    .dataframe tbody tr th {\n",
       "        vertical-align: top;\n",
       "    }\n",
       "\n",
       "    .dataframe thead th {\n",
       "        text-align: right;\n",
       "    }\n",
       "</style>\n",
       "<table border=\"1\" class=\"dataframe\">\n",
       "  <thead>\n",
       "    <tr style=\"text-align: right;\">\n",
       "      <th></th>\n",
       "      <th>longitude</th>\n",
       "      <th>latitude</th>\n",
       "      <th>housing_median_age</th>\n",
       "      <th>total_rooms</th>\n",
       "      <th>total_bedrooms</th>\n",
       "      <th>population</th>\n",
       "      <th>households</th>\n",
       "      <th>median_income</th>\n",
       "      <th>median_house_value</th>\n",
       "      <th>ocean_proximity</th>\n",
       "    </tr>\n",
       "  </thead>\n",
       "  <tbody>\n",
       "    <tr>\n",
       "      <th>0</th>\n",
       "      <td>-122.23</td>\n",
       "      <td>37.88</td>\n",
       "      <td>41.0</td>\n",
       "      <td>880.0</td>\n",
       "      <td>129.0</td>\n",
       "      <td>322.0</td>\n",
       "      <td>126.0</td>\n",
       "      <td>8.3252</td>\n",
       "      <td>452600.0</td>\n",
       "      <td>NEAR BAY</td>\n",
       "    </tr>\n",
       "    <tr>\n",
       "      <th>1</th>\n",
       "      <td>-122.22</td>\n",
       "      <td>37.86</td>\n",
       "      <td>21.0</td>\n",
       "      <td>7099.0</td>\n",
       "      <td>1106.0</td>\n",
       "      <td>2401.0</td>\n",
       "      <td>1138.0</td>\n",
       "      <td>8.3014</td>\n",
       "      <td>358500.0</td>\n",
       "      <td>NEAR BAY</td>\n",
       "    </tr>\n",
       "    <tr>\n",
       "      <th>2</th>\n",
       "      <td>-122.24</td>\n",
       "      <td>37.85</td>\n",
       "      <td>52.0</td>\n",
       "      <td>1467.0</td>\n",
       "      <td>190.0</td>\n",
       "      <td>496.0</td>\n",
       "      <td>177.0</td>\n",
       "      <td>7.2574</td>\n",
       "      <td>352100.0</td>\n",
       "      <td>NEAR BAY</td>\n",
       "    </tr>\n",
       "    <tr>\n",
       "      <th>3</th>\n",
       "      <td>-122.25</td>\n",
       "      <td>37.85</td>\n",
       "      <td>52.0</td>\n",
       "      <td>1274.0</td>\n",
       "      <td>235.0</td>\n",
       "      <td>558.0</td>\n",
       "      <td>219.0</td>\n",
       "      <td>5.6431</td>\n",
       "      <td>341300.0</td>\n",
       "      <td>NEAR BAY</td>\n",
       "    </tr>\n",
       "    <tr>\n",
       "      <th>4</th>\n",
       "      <td>-122.25</td>\n",
       "      <td>37.85</td>\n",
       "      <td>52.0</td>\n",
       "      <td>1627.0</td>\n",
       "      <td>280.0</td>\n",
       "      <td>565.0</td>\n",
       "      <td>259.0</td>\n",
       "      <td>3.8462</td>\n",
       "      <td>342200.0</td>\n",
       "      <td>NEAR BAY</td>\n",
       "    </tr>\n",
       "  </tbody>\n",
       "</table>\n",
       "</div>"
      ],
      "text/plain": [
       "   longitude  latitude  housing_median_age  total_rooms  total_bedrooms  \\\n",
       "0    -122.23     37.88                41.0        880.0           129.0   \n",
       "1    -122.22     37.86                21.0       7099.0          1106.0   \n",
       "2    -122.24     37.85                52.0       1467.0           190.0   \n",
       "3    -122.25     37.85                52.0       1274.0           235.0   \n",
       "4    -122.25     37.85                52.0       1627.0           280.0   \n",
       "\n",
       "   population  households  median_income  median_house_value ocean_proximity  \n",
       "0       322.0       126.0         8.3252            452600.0        NEAR BAY  \n",
       "1      2401.0      1138.0         8.3014            358500.0        NEAR BAY  \n",
       "2       496.0       177.0         7.2574            352100.0        NEAR BAY  \n",
       "3       558.0       219.0         5.6431            341300.0        NEAR BAY  \n",
       "4       565.0       259.0         3.8462            342200.0        NEAR BAY  "
      ]
     },
     "execution_count": 72,
     "metadata": {},
     "output_type": "execute_result"
    }
   ],
   "source": [
    "df.head()"
   ]
  },
  {
   "cell_type": "code",
   "execution_count": 73,
   "id": "f82e83a0-145a-4a1d-80c3-f4f5cab9761c",
   "metadata": {
    "tags": []
   },
   "outputs": [
    {
     "data": {
      "text/plain": [
       "<Axes: xlabel='median_house_value', ylabel='Count'>"
      ]
     },
     "execution_count": 73,
     "metadata": {},
     "output_type": "execute_result"
    },
    {
     "data": {
      "image/png": "[encoded data removed]",
      "text/plain": [
       "<Figure size 640x480 with 1 Axes>"
      ]
     },
     "metadata": {},
     "output_type": "display_data"
    }
   ],
   "source": [
    "sns.histplot(df.median_house_value)"
   ]
  },
  {
   "cell_type": "markdown",
   "id": "daf6247f-549c-45fb-8516-d5dfc53ef06b",
   "metadata": {},
   "source": [
    "This graph doesn't show that the variable 'median_house_value' have a long tail."
   ]
  },
  {
   "cell_type": "code",
   "execution_count": 74,
   "id": "dfc73c48-4b83-42b3-99f3-2af9a46715b0",
   "metadata": {
    "tags": []
   },
   "outputs": [],
   "source": [
    "price_logs=np.log1p(df.median_house_value)"
   ]
  },
  {
   "cell_type": "code",
   "execution_count": 75,
   "id": "4fc06ab7-c33b-4bba-93a3-d433e342bd94",
   "metadata": {
    "tags": []
   },
   "outputs": [
    {
     "data": {
      "text/plain": [
       "<Axes: xlabel='median_house_value', ylabel='Count'>"
      ]
     },
     "execution_count": 75,
     "metadata": {},
     "output_type": "execute_result"
    },
    {
     "data": {
      "image/png": "[encoded data removed]",
      "text/plain": [
       "<Figure size 640x480 with 1 Axes>"
      ]
     },
     "metadata": {},
     "output_type": "display_data"
    }
   ],
   "source": [
    "sns.histplot(price_logs)"
   ]
  },
  {
   "cell_type": "code",
   "execution_count": 98,
   "id": "7a0cf754-d2fe-48ea-9cae-f42593afb207",
   "metadata": {
    "tags": []
   },
   "outputs": [],
   "source": [
    "df=df[(df.ocean_proximity==\"<1H OCEAN\") | (df.ocean_proximity==\"INLAND\")]"
   ]
  },
  {
   "cell_type": "code",
   "execution_count": 99,
   "id": "3dbf804a-3554-403b-88e9-a3f69d9fc9f4",
   "metadata": {
    "tags": []
   },
   "outputs": [
    {
     "data": {
      "text/plain": [
       "<1H OCEAN    9136\n",
       "INLAND       6551\n",
       "Name: ocean_proximity, dtype: int64"
      ]
     },
     "execution_count": 99,
     "metadata": {},
     "output_type": "execute_result"
    }
   ],
   "source": [
    "df.ocean_proximity.value_counts()"
   ]
  },
  {
   "cell_type": "markdown",
   "id": "fc7c980e-37c3-43e7-9774-d274a1bf51e3",
   "metadata": {},
   "source": [
    "### **Question 1**"
   ]
  },
  {
   "cell_type": "markdown",
   "id": "c7d433fc-32d0-4301-bd95-f8f555926d4d",
   "metadata": {},
   "source": [
    "There's one feature with missing values. What is it?"
   ]
  },
  {
   "cell_type": "code",
   "execution_count": 102,
   "id": "1e522b05-75b1-48f1-a326-5974068077e8",
   "metadata": {
    "tags": []
   },
   "outputs": [
    {
     "data": {
      "text/plain": [
       "longitude               0\n",
       "latitude                0\n",
       "housing_median_age      0\n",
       "total_rooms             0\n",
       "total_bedrooms        157\n",
       "population              0\n",
       "households              0\n",
       "median_income           0\n",
       "median_house_value      0\n",
       "ocean_proximity         0\n",
       "dtype: int64"
      ]
     },
     "execution_count": 102,
     "metadata": {},
     "output_type": "execute_result"
    }
   ],
   "source": [
    "df.isnull().sum()"
   ]
  },
  {
   "cell_type": "markdown",
   "id": "7c89a227-fe6d-486c-850a-992143cead60",
   "metadata": {
    "tags": []
   },
   "source": [
    "**Answer**: total_bedrooms have 157 missing values"
   ]
  },
  {
   "cell_type": "markdown",
   "id": "140ae0f2-d758-4a6e-aac0-b6e846c81011",
   "metadata": {},
   "source": [
    "### **Question 2**"
   ]
  },
  {
   "cell_type": "markdown",
   "id": "ea281b5c-d375-4143-887f-f5ad2771959a",
   "metadata": {},
   "source": [
    "What's the median (50% percentile) for variable 'population'?"
   ]
  },
  {
   "cell_type": "code",
   "execution_count": 105,
   "id": "10bd1b6e-5cff-4bb4-8e28-c7154e6ac280",
   "metadata": {
    "tags": []
   },
   "outputs": [
    {
     "data": {
      "text/plain": [
       "count    15687.000000\n",
       "mean      1466.317205\n",
       "std       1180.389908\n",
       "min          3.000000\n",
       "25%        802.000000\n",
       "50%       1195.000000\n",
       "75%       1777.000000\n",
       "max      35682.000000\n",
       "Name: population, dtype: float64"
      ]
     },
     "execution_count": 105,
     "metadata": {},
     "output_type": "execute_result"
    }
   ],
   "source": [
    "df.population.describe()"
   ]
  },
  {
   "cell_type": "markdown",
   "id": "167c2c59-6658-4ff2-abd1-e1e9048f2b1e",
   "metadata": {},
   "source": [
    "**Answer**: 1195 is the median (50% percentile) for variable 'population'"
   ]
  },
  {
   "cell_type": "markdown",
   "id": "9a427e0f-bf5a-42a4-bb2c-0c54d67a4461",
   "metadata": {},
   "source": [
    "### Prepare and split the dataset"
   ]
  },
  {
   "cell_type": "markdown",
   "id": "80d604b2-64bb-4f5a-8366-c06e9757e576",
   "metadata": {},
   "source": [
    "* Shuffle the initial dataset, use seed 42.\n",
    "* Split your data in train/val/test sets, with 60%/20%/20% distribution.\n",
    "* Apply the log transformation to the median_house_value variable using the np.log1p() function."
   ]
  },
  {
   "cell_type": "code",
   "execution_count": 114,
   "id": "d02e422b-e02d-48d7-a889-c17ef599cc0d",
   "metadata": {
    "tags": []
   },
   "outputs": [],
   "source": [
    "n=len(df)\n",
    "n_val=int(n*0.2)\n",
    "n_test=int(n*0.2)\n",
    "n_train=n-n_val-n_test"
   ]
  },
  {
   "cell_type": "code",
   "execution_count": 118,
   "id": "01fefc82-30e4-4949-9797-07dbeaee4cb6",
   "metadata": {
    "tags": []
   },
   "outputs": [
    {
     "data": {
      "text/plain": [
       "(15687, 9413, 3137, 3137)"
      ]
     },
     "execution_count": 118,
     "metadata": {},
     "output_type": "execute_result"
    }
   ],
   "source": [
    "n,n_train,n_val,n_test"
   ]
  },
  {
   "cell_type": "code",
   "execution_count": 122,
   "id": "f24b4570-6a43-409d-9457-6b3e6e8929de",
   "metadata": {
    "tags": []
   },
   "outputs": [],
   "source": [
    "df_train=df.iloc[:n_train]\n",
    "df_val=df.iloc[n_train:n_train+n_val]\n",
    "df_test=df.iloc[n_train+n_val:]\n"
   ]
  },
  {
   "cell_type": "code",
   "execution_count": 123,
   "id": "6aae7c4c-ce79-44ad-a765-f866cfb37467",
   "metadata": {
    "tags": []
   },
   "outputs": [
    {
     "data": {
      "text/plain": [
       "(15687, 9413, 3137, 3137)"
      ]
     },
     "execution_count": 123,
     "metadata": {},
     "output_type": "execute_result"
    }
   ],
   "source": [
    "len(df),len(df_train),len(df_val),len(df_test)"
   ]
  },
  {
   "cell_type": "code",
   "execution_count": 125,
   "id": "35dfe129-5d06-47c9-853d-b7fb9cbc03a9",
   "metadata": {
    "tags": []
   },
   "outputs": [],
   "source": [
    "idx=np.arange(n)"
   ]
  },
  {
   "cell_type": "code",
   "execution_count": 127,
   "id": "1d99a539-7330-4117-b2ee-c528305b64ba",
   "metadata": {
    "tags": []
   },
   "outputs": [],
   "source": [
    "np.random.seed(42)\n",
    "np.random.shuffle(idx)"
   ]
  },
  {
   "cell_type": "code",
   "execution_count": 128,
   "id": "709ff744-87e9-413c-9cf6-20f6ea423ec6",
   "metadata": {
    "tags": []
   },
   "outputs": [
    {
     "data": {
      "text/plain": [
       "array([15183,  4469,  9316, ...,  5390,   860,  7270])"
      ]
     },
     "execution_count": 128,
     "metadata": {},
     "output_type": "execute_result"
    }
   ],
   "source": [
    "idx"
   ]
  },
  {
   "cell_type": "code",
   "execution_count": 131,
   "id": "4c210371-0489-4d98-9a14-a2ce4613a819",
   "metadata": {
    "tags": []
   },
   "outputs": [],
   "source": [
    "df_train=df.iloc[idx[:n_train]]\n",
    "df_val=df.iloc[idx[n_train:n_train+n_val]]\n",
    "df_test=df.iloc[idx[n_train+n_val:]]"
   ]
  },
  {
   "cell_type": "code",
   "execution_count": 133,
   "id": "b9a1614c-556e-411e-8df7-a149c49d8512",
   "metadata": {
    "tags": []
   },
   "outputs": [],
   "source": [
    "df_train=df_train.reset_index(drop=True)\n",
    "df_val=df_val.reset_index(drop=True)\n",
    "df_test=df_test.reset_index(drop=True)"
   ]
  },
  {
   "cell_type": "code",
   "execution_count": 140,
   "id": "6da1bd4e-cbfd-4d93-b0ed-a96fe9de308d",
   "metadata": {
    "tags": []
   },
   "outputs": [],
   "source": [
    "y_train=np.log1p(df_train.median_house_value).values\n",
    "y_val=np.log1p(df_val.median_house_value).values\n",
    "y_test=np.log1p(df_test.median_house_value).values"
   ]
  },
  {
   "cell_type": "code",
   "execution_count": 141,
   "id": "1ba2c30a-0803-420f-a545-27e5a1d2c815",
   "metadata": {
    "tags": []
   },
   "outputs": [],
   "source": [
    "del df_train[\"median_house_value\"]\n",
    "del df_val[\"median_house_value\"]\n",
    "del df_test[\"median_house_value\"]"
   ]
  },
  {
   "cell_type": "markdown",
   "id": "256a6d39-4f83-468f-9910-872d84f62213",
   "metadata": {
    "tags": []
   },
   "source": [
    "### **Question 3**\n",
    "* We need to deal with missing values for the column from Q1.\n",
    "* We have two options: fill it with 0 or with the mean of this variable.\n",
    "* Try both options. For each, train a linear regression model without regularization using the code from the lessons.\n",
    "* For computing the mean, use the training only!\n",
    "* Use the validation dataset to evaluate the models and compare the RMSE of each option.\n",
    "* Round the RMSE scores to 2 decimal digits using round(score, 2)\n",
    "* Which option gives better RMSE?\n",
    "\n",
    "Options:\n",
    "\n",
    "* With 0\n",
    "* With mean\n",
    "* Both are equally good"
   ]
  },
  {
   "cell_type": "markdown",
   "id": "6f2eb21d-d3d0-415e-88cc-5e029d84a0d6",
   "metadata": {},
   "source": [
    "### Linear Regression Model"
   ]
  },
  {
   "cell_type": "code",
   "execution_count": 183,
   "id": "12ba6ea6-b45e-4bfd-b656-d84e9837038c",
   "metadata": {
    "tags": []
   },
   "outputs": [],
   "source": [
    "def train_linear_regression(X,y,r=1):\n",
    "    ones = np.ones(X.shape[0])\n",
    "    X = np.column_stack([ones, X])\n",
    "    XTX = X.T.dot(X)\n",
    "    XTX_inv = np.linalg.inv(XTX)\n",
    "    w_full = XTX_inv.dot(X.T).dot(y)\n",
    "    return w_full[0], w_full[1:]"
   ]
  },
  {
   "cell_type": "code",
   "execution_count": 161,
   "id": "117fbdf8-c179-4b25-b895-c9fd4c858aaa",
   "metadata": {
    "tags": []
   },
   "outputs": [
    {
     "data": {
      "text/plain": [
       "array(['longitude', 'latitude', 'housing_median_age', 'total_rooms',\n",
       "       'total_bedrooms', 'population', 'households', 'median_income',\n",
       "       'median_house_value'], dtype=object)"
      ]
     },
     "execution_count": 161,
     "metadata": {},
     "output_type": "execute_result"
    }
   ],
   "source": [
    "df.dtypes[df.dtypes==\"float\"].index.values"
   ]
  },
  {
   "cell_type": "markdown",
   "id": "4a736045-ded2-480b-b7e9-11aea5dac502",
   "metadata": {},
   "source": [
    "Choose numeric values for prediction"
   ]
  },
  {
   "cell_type": "code",
   "execution_count": 171,
   "id": "f37e11e2-ee27-4679-b742-79e8bf39cb9b",
   "metadata": {
    "tags": []
   },
   "outputs": [],
   "source": [
    "base=['housing_median_age', 'total_rooms',\n",
    "       'total_bedrooms', 'population', 'households', 'median_income']"
   ]
  },
  {
   "cell_type": "markdown",
   "id": "ba014553-46df-4026-84c7-68296e079566",
   "metadata": {},
   "source": [
    "#### **Option 1**: Fill missing values with \"0\""
   ]
  },
  {
   "cell_type": "code",
   "execution_count": 212,
   "id": "542e2530-c2eb-427f-9804-665c6f82417c",
   "metadata": {
    "tags": []
   },
   "outputs": [],
   "source": [
    "def prepare_X(df):\n",
    "    df_num=df[base]\n",
    "    df_num=df_num.fillna(0)\n",
    "    X=df_num.values\n",
    "    return X"
   ]
  },
  {
   "cell_type": "code",
   "execution_count": 213,
   "id": "eb5e6ca8-5833-4731-a4b9-d153258435ee",
   "metadata": {
    "tags": []
   },
   "outputs": [],
   "source": [
    "def rmse(y_pred,y_train):\n",
    "    error=y_pred-y_train\n",
    "    se=error**2\n",
    "    mse=se.mean()\n",
    "    return np.sqrt(mse)"
   ]
  },
  {
   "cell_type": "code",
   "execution_count": 214,
   "id": "9d080f6a-65ba-4c64-a34c-e64df75db834",
   "metadata": {
    "tags": []
   },
   "outputs": [],
   "source": [
    "X_train=prepare_X(df_train)"
   ]
  },
  {
   "cell_type": "code",
   "execution_count": 215,
   "id": "03d09dd3-6080-48b7-a115-d7a005fc4caf",
   "metadata": {
    "tags": []
   },
   "outputs": [],
   "source": [
    "w0,w=train_linear_regression(X_train,y_train,r=1)"
   ]
  },
  {
   "cell_type": "code",
   "execution_count": 216,
   "id": "16cb4c46-cd87-4661-8f52-9dea1c0cc92e",
   "metadata": {
    "tags": []
   },
   "outputs": [],
   "source": [
    "X_val=prepare_X(df_val)"
   ]
  },
  {
   "cell_type": "code",
   "execution_count": 217,
   "id": "c8d693dc-b2ed-403b-9111-14635941a02a",
   "metadata": {
    "tags": []
   },
   "outputs": [],
   "source": [
    "y_pred=w0+X_val.dot(w)"
   ]
  },
  {
   "cell_type": "code",
   "execution_count": 218,
   "id": "9ba704b2-6ce6-4f91-b1ff-c3e45c953bee",
   "metadata": {
    "tags": []
   },
   "outputs": [],
   "source": [
    "score1=round(rmse(y_pred,y_val),2)"
   ]
  },
  {
   "cell_type": "markdown",
   "id": "322128a3-1beb-4bcf-b1c3-3eaf3f076059",
   "metadata": {},
   "source": [
    "#### **Option 2**: Fill missing values with \"Mean\""
   ]
  },
  {
   "cell_type": "code",
   "execution_count": 219,
   "id": "111fca33-2fb4-44c4-9f7c-b33c29465fa8",
   "metadata": {
    "tags": []
   },
   "outputs": [],
   "source": [
    "def prepare_X(df):\n",
    "    df_num=df[base]\n",
    "    df_num=df_num.fillna(y_train.mean())\n",
    "    X=df_num.values\n",
    "    return X"
   ]
  },
  {
   "cell_type": "code",
   "execution_count": 220,
   "id": "16542602-f2ea-474b-bee8-50bcf1bec285",
   "metadata": {
    "tags": []
   },
   "outputs": [],
   "source": [
    "X_train=prepare_X(df_train)"
   ]
  },
  {
   "cell_type": "code",
   "execution_count": 221,
   "id": "a6a09e15-5ea8-4d13-bbc9-af49bbd95c96",
   "metadata": {
    "tags": []
   },
   "outputs": [],
   "source": [
    "w0,w=train_linear_regression(X_train,y_train,r=1)"
   ]
  },
  {
   "cell_type": "code",
   "execution_count": 222,
   "id": "2aef2157-e872-4a9d-8a85-cdcf641635a4",
   "metadata": {
    "tags": []
   },
   "outputs": [],
   "source": [
    "X_val=prepare_X(df_val)"
   ]
  },
  {
   "cell_type": "code",
   "execution_count": 223,
   "id": "add53513-89d1-4036-a836-ef5107b87ab8",
   "metadata": {
    "tags": []
   },
   "outputs": [],
   "source": [
    "y_pred=w0+X_val.dot(w)"
   ]
  },
  {
   "cell_type": "code",
   "execution_count": 224,
   "id": "3f5b98ad-88d5-41d3-b771-579f750fc754",
   "metadata": {
    "tags": []
   },
   "outputs": [],
   "source": [
    "score2=round(rmse(y_pred,y_val),2)"
   ]
  },
  {
   "cell_type": "code",
   "execution_count": 225,
   "id": "5d9bcc74-19dc-47c6-835c-10573605f922",
   "metadata": {
    "tags": []
   },
   "outputs": [
    {
     "data": {
      "text/plain": [
       "(0.4, 0.4)"
      ]
     },
     "execution_count": 225,
     "metadata": {},
     "output_type": "execute_result"
    }
   ],
   "source": [
    "score1,score2"
   ]
  },
  {
   "cell_type": "markdown",
   "id": "ff127f8b-7a15-4f6f-a7d8-34e0fa76be15",
   "metadata": {},
   "source": [
    "Both scores are equally good"
   ]
  },
  {
   "cell_type": "markdown",
   "id": "b2cc1379-5d38-48fc-a3c3-7ae115dbcb96",
   "metadata": {},
   "source": [
    "### **Question 4**\n",
    "* Now let's train a regularized linear regression.\n",
    "* For this question, fill the NAs with 0.\n",
    "* Try different values of r from this list: [0, 0.000001, 0.0001, 0.001, 0.01, 0.1, 1, 5, 10].\n",
    "* Use RMSE to evaluate the model on the validation dataset.\n",
    "* Round the RMSE scores to 2 decimal digits.\n",
    "* Which r gives the best RMSE?\n",
    "\n",
    "If there are multiple options, select the smallest r.\n",
    "\n",
    "Options:\n",
    "\n",
    "* 0\n",
    "* 0.000001\n",
    "* 0.001\n",
    "* 0.0001"
   ]
  },
  {
   "cell_type": "code",
   "execution_count": 264,
   "id": "3a8f1760-5f4f-416d-895d-c2e841f54551",
   "metadata": {
    "tags": []
   },
   "outputs": [],
   "source": [
    "def train_linear_regression(X,y,r=1):\n",
    "    ones = np.ones(X.shape[0])\n",
    "    X = np.column_stack([ones, X])\n",
    "    XTX = X.T.dot(X)\n",
    "    XTX=XTX + r*np.eye(XTX.shape[0]) #regularization due to single matric problem\n",
    "    XTX_inv = np.linalg.inv(XTX)\n",
    "    w_full = XTX_inv.dot(X.T).dot(y)\n",
    "    return w_full[0], w_full[1:]"
   ]
  },
  {
   "cell_type": "code",
   "execution_count": 265,
   "id": "5e2b5f21-bf47-49a7-b6d3-391ff1a45bb4",
   "metadata": {
    "tags": []
   },
   "outputs": [],
   "source": [
    "def prepare_X(df):\n",
    "    df_num=df[base]\n",
    "    df_num=df_num.fillna(0)\n",
    "    X=df_num.values\n",
    "    return X"
   ]
  },
  {
   "cell_type": "code",
   "execution_count": 266,
   "id": "19f2b990-1f96-4adb-b9b8-06fdf658e601",
   "metadata": {
    "tags": []
   },
   "outputs": [],
   "source": [
    "def rmse(y_pred,y_train):\n",
    "    error=y_pred-y_train\n",
    "    se=error**2\n",
    "    mse=se.mean()\n",
    "    return np.sqrt(mse)"
   ]
  },
  {
   "cell_type": "code",
   "execution_count": 277,
   "id": "e0085e0b-eddc-4c79-ac76-559a311e4639",
   "metadata": {
    "tags": []
   },
   "outputs": [],
   "source": [
    "r=[0, 0.000001, 0.0001, 0.001, 0.01, 0.1, 1, 5, 10]"
   ]
  },
  {
   "cell_type": "code",
   "execution_count": 278,
   "id": "c57788fd-c026-4e1a-8990-10ce69deb25b",
   "metadata": {
    "tags": []
   },
   "outputs": [],
   "source": [
    "score_list={}\n",
    "for i in r:\n",
    "    X_train=prepare_X(df_train)\n",
    "    w0,w=train_linear_regression(X_train,y_train,r=i)\n",
    "    X_val=prepare_X(df_val)\n",
    "    y_pred=w0+X_val.dot(w)\n",
    "    score=rmse(y_pred,y_val)\n",
    "    score_list[\"r=%s\" %i]=round(score,2)"
   ]
  },
  {
   "cell_type": "code",
   "execution_count": 282,
   "id": "7a2253f0-a06f-42e0-a68b-2cc28f680502",
   "metadata": {
    "tags": []
   },
   "outputs": [
    {
     "data": {
      "text/plain": [
       "{'r=0': 0.4,\n",
       " 'r=1e-06': 0.4,\n",
       " 'r=0.0001': 0.4,\n",
       " 'r=0.001': 0.4,\n",
       " 'r=0.01': 0.4,\n",
       " 'r=0.1': 0.4,\n",
       " 'r=1': 0.4,\n",
       " 'r=5': 0.4,\n",
       " 'r=10': 0.4}"
      ]
     },
     "execution_count": 282,
     "metadata": {},
     "output_type": "execute_result"
    }
   ],
   "source": [
    "score_list"
   ]
  },
  {
   "cell_type": "markdown",
   "id": "52cd7790-bd34-43d8-a406-f13902a571d8",
   "metadata": {},
   "source": [
    "There are multiple options. Answer is 0"
   ]
  },
  {
   "cell_type": "markdown",
   "id": "baf53547-fe9d-45df-a9f3-c166897f766d",
   "metadata": {},
   "source": [
    "### **Question 5**\n",
    "* We used seed 42 for splitting the data. Let's find out how selecting the seed influences our score.\n",
    "* Try different seed values: [0, 1, 2, 3, 4, 5, 6, 7, 8, 9].\n",
    "* For each seed, do the train/validation/test split with 60%/20%/20% distribution.\n",
    "* Fill the missing values with 0 and train a model without regularization.\n",
    "* For each seed, evaluate the model on the validation dataset and collect the RMSE scores.\n",
    "* What's the standard deviation of all the scores? To compute the standard deviation, use np.std.\n",
    "* Round the result to 3 decimal digits (round(std, 3))\n",
    "What's the value of std?\n",
    "\n",
    "* 0.5\n",
    "* 0.05\n",
    "* 0.005\n",
    "* 0.0005\n",
    "\n",
    "<p> Note: Standard deviation shows how different the values are. If it's low, then all values are approximately the same. If it's high, the values are different. If standard deviation of scores is low, then our model is stable.<p>"
   ]
  },
  {
   "cell_type": "code",
   "execution_count": 330,
   "id": "bed48744-8a06-46a3-81b6-313f47901cb8",
   "metadata": {
    "tags": []
   },
   "outputs": [],
   "source": [
    "def train_linear_regression(X,y,r=0):\n",
    "    ones = np.ones(X.shape[0])\n",
    "    X = np.column_stack([ones, X])\n",
    "    XTX = X.T.dot(X)\n",
    "    # XTX=XTX + r*np.eye(XTX.shape[0]) #regularization due to single matric problem\n",
    "    XTX_inv = np.linalg.inv(XTX)\n",
    "    w_full = XTX_inv.dot(X.T).dot(y)\n",
    "    return w_full[0], w_full[1:]"
   ]
  },
  {
   "cell_type": "code",
   "execution_count": 331,
   "id": "640273c4-c096-4d24-82e8-2be417a6c687",
   "metadata": {
    "tags": []
   },
   "outputs": [],
   "source": [
    "def prepare_X(df):\n",
    "    df_num=df[base]\n",
    "    df_num=df_num.fillna(0)\n",
    "    X=df_num.values\n",
    "    return X"
   ]
  },
  {
   "cell_type": "code",
   "execution_count": 332,
   "id": "1e486058-1b6d-42de-8e3c-2bec13a5b4bb",
   "metadata": {
    "tags": []
   },
   "outputs": [],
   "source": [
    "def rmse(y_pred,y_train):\n",
    "    error=y_pred-y_train\n",
    "    se=error**2\n",
    "    mse=se.mean()\n",
    "    return np.sqrt(mse)"
   ]
  },
  {
   "cell_type": "code",
   "execution_count": 333,
   "id": "ba0b6add-7702-46b3-9b06-2918cf6efa52",
   "metadata": {
    "tags": []
   },
   "outputs": [],
   "source": [
    "df=df.copy()\n",
    "r=[0, 0.000001, 0.0001, 0.001, 0.01, 0.1, 1, 5, 10]\n",
    "seed= [0, 1, 2, 3, 4, 5, 6, 7, 8, 9]\n",
    "score_dict={}\n",
    "\n",
    "for s in seed:\n",
    "    \n",
    "    n=len(df)\n",
    "    n_val=int(n*0.2)\n",
    "    n_test=int(n*0.2)\n",
    "    n_train=n-n_val-n_test\n",
    "    \n",
    "    idx=np.arange(n)\n",
    "    np.random.seed(s)\n",
    "    np.random.shuffle(idx)\n",
    "    \n",
    "    df_train=df.iloc[idx[:n_train]]\n",
    "    df_val=df.iloc[idx[n_train:n_train+n_val]]\n",
    "    df_test=df.iloc[idx[n_train+n_val:]]\n",
    "    \n",
    "    df_train=df_train.reset_index(drop=True)\n",
    "    df_val=df_val.reset_index(drop=True)\n",
    "    df_test=df_test.reset_index(drop=True)\n",
    "    \n",
    "    y_train=np.log1p(df_train.median_house_value).values\n",
    "    y_val=np.log1p(df_val.median_house_value).values\n",
    "    y_test=np.log1p(df_test.median_house_value).values\n",
    "    \n",
    "    del df_train[\"median_house_value\"]\n",
    "    del df_val[\"median_house_value\"]\n",
    "    del df_test[\"median_house_value\"]\n",
    "    \n",
    "    X_train=prepare_X(df_train)\n",
    "    w0,w=train_linear_regression(X_train,y_train,r=0)\n",
    "    X_val=prepare_X(df_val)\n",
    "    y_pred=w0+X_val.dot(w)\n",
    "    score=rmse(y_pred,y_val)\n",
    "    score_dict[\"seed=%s\" %s]=score\n",
    "\n"
   ]
  },
  {
   "cell_type": "code",
   "execution_count": 334,
   "id": "17b6372a-2565-4175-b83a-ddfa852f8b26",
   "metadata": {
    "tags": []
   },
   "outputs": [],
   "source": [
    "std=np.std(list(score_dict.values()))"
   ]
  },
  {
   "cell_type": "code",
   "execution_count": 338,
   "id": "9e701f17-9cb7-47d6-91e8-b9443053d8ac",
   "metadata": {
    "tags": []
   },
   "outputs": [
    {
     "name": "stdout",
     "output_type": "stream",
     "text": [
      "std: 0.006\n"
     ]
    }
   ],
   "source": [
    "print(\"std:\",round(std,3))"
   ]
  },
  {
   "cell_type": "markdown",
   "id": "9e905c3f-90d7-4ec7-aa10-588a020504aa",
   "metadata": {},
   "source": [
    "### **Question 6**\n",
    "* Split the dataset like previously, use seed 9.\n",
    "* Combine train and validation datasets.\n",
    "* Fill the missing values with 0 and train a model with r=0.001.\n",
    "* What's the RMSE on the test dataset?\n",
    "\n",
    "Options:\n",
    "\n",
    "* 0.13\n",
    "* 0.23\n",
    "* 0.33\n",
    "* 0.43"
   ]
  },
  {
   "cell_type": "code",
   "execution_count": 339,
   "id": "f534d909-b31e-43c5-b470-6747a5b26d74",
   "metadata": {
    "tags": []
   },
   "outputs": [],
   "source": [
    "df=df.copy()\n",
    "\n",
    "n=len(df)\n",
    "n_val=int(n*0.2)\n",
    "n_test=int(n*0.2)\n",
    "n_train=n-n_val-n_test\n",
    "\n",
    "idx=np.arange(n)\n",
    "np.random.seed(9)\n",
    "np.random.shuffle(idx)\n",
    "\n",
    "df_train=df.iloc[idx[:n_train]]\n",
    "df_val=df.iloc[idx[n_train:n_train+n_val]]\n",
    "df_test=df.iloc[idx[n_train+n_val:]]\n",
    "\n",
    "df_train=df_train.reset_index(drop=True)\n",
    "df_val=df_val.reset_index(drop=True)\n",
    "df_test=df_test.reset_index(drop=True)\n",
    "\n",
    "y_train=np.log1p(df_train.median_house_value).values\n",
    "y_val=np.log1p(df_val.median_house_value).values\n",
    "y_test=np.log1p(df_test.median_house_value).values\n",
    "\n",
    "del df_train[\"median_house_value\"]\n",
    "del df_val[\"median_house_value\"]\n",
    "del df_test[\"median_house_value\"]\n"
   ]
  },
  {
   "cell_type": "code",
   "execution_count": 340,
   "id": "ef7a9d79-1033-4c60-b621-c3a9a9016728",
   "metadata": {
    "tags": []
   },
   "outputs": [],
   "source": [
    "df_full_train = pd.concat([df_train, df_val])"
   ]
  },
  {
   "cell_type": "code",
   "execution_count": 341,
   "id": "912c5559-4ca7-48ce-98f3-b4e5dd4a60d2",
   "metadata": {
    "tags": []
   },
   "outputs": [
    {
     "data": {
      "text/html": [
       "<div>\n",
       "<style scoped>\n",
       "    .dataframe tbody tr th:only-of-type {\n",
       "        vertical-align: middle;\n",
       "    }\n",
       "\n",
       "    .dataframe tbody tr th {\n",
       "        vertical-align: top;\n",
       "    }\n",
       "\n",
       "    .dataframe thead th {\n",
       "        text-align: right;\n",
       "    }\n",
       "</style>\n",
       "<table border=\"1\" class=\"dataframe\">\n",
       "  <thead>\n",
       "    <tr style=\"text-align: right;\">\n",
       "      <th></th>\n",
       "      <th>longitude</th>\n",
       "      <th>latitude</th>\n",
       "      <th>housing_median_age</th>\n",
       "      <th>total_rooms</th>\n",
       "      <th>total_bedrooms</th>\n",
       "      <th>population</th>\n",
       "      <th>households</th>\n",
       "      <th>median_income</th>\n",
       "      <th>ocean_proximity</th>\n",
       "    </tr>\n",
       "  </thead>\n",
       "  <tbody>\n",
       "    <tr>\n",
       "      <th>0</th>\n",
       "      <td>-117.05</td>\n",
       "      <td>32.82</td>\n",
       "      <td>16.0</td>\n",
       "      <td>4046.0</td>\n",
       "      <td>731.0</td>\n",
       "      <td>1684.0</td>\n",
       "      <td>701.0</td>\n",
       "      <td>4.2312</td>\n",
       "      <td>&lt;1H OCEAN</td>\n",
       "    </tr>\n",
       "    <tr>\n",
       "      <th>1</th>\n",
       "      <td>-118.00</td>\n",
       "      <td>33.91</td>\n",
       "      <td>19.0</td>\n",
       "      <td>5166.0</td>\n",
       "      <td>770.0</td>\n",
       "      <td>2374.0</td>\n",
       "      <td>753.0</td>\n",
       "      <td>5.9790</td>\n",
       "      <td>&lt;1H OCEAN</td>\n",
       "    </tr>\n",
       "    <tr>\n",
       "      <th>2</th>\n",
       "      <td>-121.96</td>\n",
       "      <td>37.25</td>\n",
       "      <td>35.0</td>\n",
       "      <td>1018.0</td>\n",
       "      <td>169.0</td>\n",
       "      <td>484.0</td>\n",
       "      <td>174.0</td>\n",
       "      <td>6.1648</td>\n",
       "      <td>&lt;1H OCEAN</td>\n",
       "    </tr>\n",
       "    <tr>\n",
       "      <th>3</th>\n",
       "      <td>-121.89</td>\n",
       "      <td>37.30</td>\n",
       "      <td>47.0</td>\n",
       "      <td>1604.0</td>\n",
       "      <td>284.0</td>\n",
       "      <td>639.0</td>\n",
       "      <td>278.0</td>\n",
       "      <td>5.8415</td>\n",
       "      <td>&lt;1H OCEAN</td>\n",
       "    </tr>\n",
       "    <tr>\n",
       "      <th>4</th>\n",
       "      <td>-118.14</td>\n",
       "      <td>33.96</td>\n",
       "      <td>34.0</td>\n",
       "      <td>2744.0</td>\n",
       "      <td>541.0</td>\n",
       "      <td>1333.0</td>\n",
       "      <td>503.0</td>\n",
       "      <td>4.0536</td>\n",
       "      <td>&lt;1H OCEAN</td>\n",
       "    </tr>\n",
       "    <tr>\n",
       "      <th>...</th>\n",
       "      <td>...</td>\n",
       "      <td>...</td>\n",
       "      <td>...</td>\n",
       "      <td>...</td>\n",
       "      <td>...</td>\n",
       "      <td>...</td>\n",
       "      <td>...</td>\n",
       "      <td>...</td>\n",
       "      <td>...</td>\n",
       "    </tr>\n",
       "    <tr>\n",
       "      <th>12545</th>\n",
       "      <td>-121.14</td>\n",
       "      <td>38.92</td>\n",
       "      <td>16.0</td>\n",
       "      <td>2069.0</td>\n",
       "      <td>312.0</td>\n",
       "      <td>889.0</td>\n",
       "      <td>299.0</td>\n",
       "      <td>4.6771</td>\n",
       "      <td>INLAND</td>\n",
       "    </tr>\n",
       "    <tr>\n",
       "      <th>12546</th>\n",
       "      <td>-118.25</td>\n",
       "      <td>33.93</td>\n",
       "      <td>42.0</td>\n",
       "      <td>763.0</td>\n",
       "      <td>191.0</td>\n",
       "      <td>754.0</td>\n",
       "      <td>174.0</td>\n",
       "      <td>2.0486</td>\n",
       "      <td>&lt;1H OCEAN</td>\n",
       "    </tr>\n",
       "    <tr>\n",
       "      <th>12547</th>\n",
       "      <td>-116.99</td>\n",
       "      <td>32.85</td>\n",
       "      <td>32.0</td>\n",
       "      <td>5211.0</td>\n",
       "      <td>949.0</td>\n",
       "      <td>3025.0</td>\n",
       "      <td>948.0</td>\n",
       "      <td>4.0931</td>\n",
       "      <td>&lt;1H OCEAN</td>\n",
       "    </tr>\n",
       "    <tr>\n",
       "      <th>12548</th>\n",
       "      <td>-122.68</td>\n",
       "      <td>38.48</td>\n",
       "      <td>15.0</td>\n",
       "      <td>1575.0</td>\n",
       "      <td>262.0</td>\n",
       "      <td>716.0</td>\n",
       "      <td>259.0</td>\n",
       "      <td>5.3409</td>\n",
       "      <td>&lt;1H OCEAN</td>\n",
       "    </tr>\n",
       "    <tr>\n",
       "      <th>12549</th>\n",
       "      <td>-121.95</td>\n",
       "      <td>37.29</td>\n",
       "      <td>30.0</td>\n",
       "      <td>3734.0</td>\n",
       "      <td>813.0</td>\n",
       "      <td>1834.0</td>\n",
       "      <td>824.0</td>\n",
       "      <td>3.4505</td>\n",
       "      <td>&lt;1H OCEAN</td>\n",
       "    </tr>\n",
       "  </tbody>\n",
       "</table>\n",
       "<p>12550 rows × 9 columns</p>\n",
       "</div>"
      ],
      "text/plain": [
       "       longitude  latitude  housing_median_age  total_rooms  total_bedrooms  \\\n",
       "0        -117.05     32.82                16.0       4046.0           731.0   \n",
       "1        -118.00     33.91                19.0       5166.0           770.0   \n",
       "2        -121.96     37.25                35.0       1018.0           169.0   \n",
       "3        -121.89     37.30                47.0       1604.0           284.0   \n",
       "4        -118.14     33.96                34.0       2744.0           541.0   \n",
       "...          ...       ...                 ...          ...             ...   \n",
       "12545    -121.14     38.92                16.0       2069.0           312.0   \n",
       "12546    -118.25     33.93                42.0        763.0           191.0   \n",
       "12547    -116.99     32.85                32.0       5211.0           949.0   \n",
       "12548    -122.68     38.48                15.0       1575.0           262.0   \n",
       "12549    -121.95     37.29                30.0       3734.0           813.0   \n",
       "\n",
       "       population  households  median_income ocean_proximity  \n",
       "0          1684.0       701.0         4.2312       <1H OCEAN  \n",
       "1          2374.0       753.0         5.9790       <1H OCEAN  \n",
       "2           484.0       174.0         6.1648       <1H OCEAN  \n",
       "3           639.0       278.0         5.8415       <1H OCEAN  \n",
       "4          1333.0       503.0         4.0536       <1H OCEAN  \n",
       "...           ...         ...            ...             ...  \n",
       "12545       889.0       299.0         4.6771          INLAND  \n",
       "12546       754.0       174.0         2.0486       <1H OCEAN  \n",
       "12547      3025.0       948.0         4.0931       <1H OCEAN  \n",
       "12548       716.0       259.0         5.3409       <1H OCEAN  \n",
       "12549      1834.0       824.0         3.4505       <1H OCEAN  \n",
       "\n",
       "[12550 rows x 9 columns]"
      ]
     },
     "execution_count": 341,
     "metadata": {},
     "output_type": "execute_result"
    }
   ],
   "source": [
    "df_full_train = df_full_train.reset_index(drop=True)\n",
    "df_full_train"
   ]
  },
  {
   "cell_type": "code",
   "execution_count": 348,
   "id": "c01e9f38-e90f-4f59-8dee-c57e93ecdcda",
   "metadata": {
    "tags": []
   },
   "outputs": [],
   "source": [
    "def train_linear_regression(X,y,r=0.001):\n",
    "    ones = np.ones(X.shape[0])\n",
    "    X = np.column_stack([ones, X])\n",
    "    XTX = X.T.dot(X)\n",
    "    # XTX=XTX + r*np.eye(XTX.shape[0]) #regularization due to single matric problem\n",
    "    XTX_inv = np.linalg.inv(XTX)\n",
    "    w_full = XTX_inv.dot(X.T).dot(y)\n",
    "    return w_full[0], w_full[1:]\n",
    "\n",
    "def prepare_X(df):\n",
    "    df_num=df[base]\n",
    "    df_num=df_num.fillna(0)\n",
    "    X=df_num.values\n",
    "    return X\n",
    "\n",
    "def rmse(y_pred,y_train):\n",
    "    error=y_pred-y_train\n",
    "    se=error**2\n",
    "    mse=se.mean()\n",
    "    return np.sqrt(mse)"
   ]
  },
  {
   "cell_type": "code",
   "execution_count": 349,
   "id": "20d20614-02fa-4ca6-9662-8e00bca55799",
   "metadata": {
    "tags": []
   },
   "outputs": [],
   "source": [
    "y_full_train=np.concatenate([y_train,y_val])"
   ]
  },
  {
   "cell_type": "code",
   "execution_count": 351,
   "id": "82e4eaef-ac49-43e5-9f16-1cdfd470fbda",
   "metadata": {
    "tags": []
   },
   "outputs": [
    {
     "data": {
      "text/plain": [
       "0.392768333815925"
      ]
     },
     "execution_count": 351,
     "metadata": {},
     "output_type": "execute_result"
    }
   ],
   "source": [
    "X_full_train=prepare_X(df_full_train)\n",
    "\n",
    "w0,w=train_linear_regression(X_full_train,y_full_train,r=0.001)\n",
    "\n",
    "X_test=prepare_X(df_test)\n",
    "\n",
    "y_pred=w0+X_test.dot(w)\n",
    "\n",
    "rmse(y_pred,y_test)"
   ]
  },
  {
   "cell_type": "code",
   "execution_count": null,
   "id": "f0bf7e7e-a479-4fb8-b4b1-d0bfa3c8dc2f",
   "metadata": {},
   "outputs": [],
   "source": []
  },
  {
   "cell_type": "code",
   "execution_count": null,
   "id": "c9c53591-4ae1-4008-8a1f-2f162284040e",
   "metadata": {},
   "outputs": [],
   "source": []
  }
 ],
 "metadata": {
  "kernelspec": {
   "display_name": "Python 3 (ipykernel)",
   "language": "python",
   "name": "python3"
  },
  "language_info": {
   "codemirror_mode": {
    "name": "ipython",
    "version": 3
   },
   "file_extension": ".py",
   "mimetype": "text/x-python",
   "name": "python",
   "nbconvert_exporter": "python",
   "pygments_lexer": "ipython3",
   "version": "3.11.4"
  }
 },
 "nbformat": 4,
 "nbformat_minor": 5
}
